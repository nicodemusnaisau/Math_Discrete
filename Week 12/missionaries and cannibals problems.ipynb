{
 "cells": [
  {
   "cell_type": "markdown",
   "metadata": {},
   "source": [
    "### Missionaries and Cannibals\n",
    "\n",
    "&nbsp;\n",
    "\n",
    "Missionaries and cannibals problem is a famous toy problem in artificial intelligence. You have one boat, three missionaries and three cannibals. The objective is to move everyone from left bank to right bank. There are two constraints. One, the boat can only take two people at most and it cannot operate without people. Two, whenever cannibals outnumber missionaries on each bank, missionaries get eaten.\n",
    "\n",
    "Details of the game could be found in the following link\n",
    "\n",
    "https://en.wikipedia.org/wiki/Missionaries_and_cannibals_problem\n",
    "\n",
    "&nbsp;"
   ]
  },
  {
   "cell_type": "code",
   "execution_count": 1,
   "metadata": {},
   "outputs": [],
   "source": [
    "import os\n",
    "os.chdir('K:/ecole/github')\n",
    "import matplotlib.pyplot as plt\n",
    "import matplotlib.animation as pltani\n",
    "\n",
    "#graph adt\n",
    "#check the below link for more details\n",
    "# https://github.com/je-suis-tm/graph-theory/blob/master/graph.py\n",
    "import graph"
   ]
  },
  {
   "cell_type": "code",
   "execution_count": 2,
   "metadata": {},
   "outputs": [],
   "source": [
    "#the tricky part is to convert the possibilities into a graph structure\n",
    "#denote a vertex (a,b,c,d,e)\n",
    "#a is the number of cannibals on left bank\n",
    "#b is the number of missionaries on left bank\n",
    "#c is the number of cannibals on right bank\n",
    "#d is the number of missionaries on right bank\n",
    "#e is the location of a boat\n",
    "#denote 0 as the boat is on left bank\n",
    "#1 as the boat is on right bank\n",
    "#what we intend to do is to build up all the possible occasions as vertices\n",
    "#and convert the valid moves from one status to another into edges\n",
    "#weights are 1 for the purpose of dijkstra\n",
    "def check_around():\n",
    "\n",
    "    #to build up vertices\n",
    "    #lets split all the possibilities in two\n",
    "    #when the boat is on left bank and on right bank\n",
    "    #when the boat is on left bank should connect to the scenario when the boat is on right bank\n",
    "    #cuz we wanna ship people from left to right and boat requires a sailor\n",
    "    #vice versa\n",
    "    ADT=graph.graph()\n",
    "    \n",
    "    #lets look at the case when the boat is on left bank\n",
    "    #denote i as number of cannibals on left bank\n",
    "    #denote j as number of missionaries on left bank\n",
    "    #and 3-i is apparently the number of cannibals on right bank\n",
    "    #cuz the sum of cannibals is 3\n",
    "    #the same idea applies to missionaries\n",
    "    #this way would save us a lot of time from iterations\n",
    "    #and the valid edges should be the boat from left bank to right bank\n",
    "    #which is 0 to 1\n",
    "    #the boat can only carry two people\n",
    "    #there are five possible scenarios for crossing river\n",
    "    for i in range(0,4):\n",
    "        for j in range(0,4):\n",
    "            \n",
    "            #two people on boat, carry two cannibals\n",
    "            #the representation of carrying two cannibals is\n",
    "            #from (i,j,3-i,3-j,0) to (i-2,j,3-i+2,3-j,1)\n",
    "            #two cannibals are extracted from left bank and added to the right bank\n",
    "            #missionaries for both banks stay the same\n",
    "            #the boat status changes from 0 to 1\n",
    "            if validate(i-2,j,3-i+2,3-j):\n",
    "                ADT.append((i,j,3-i,3-j,0),(i-2,j,3-i+2,3-j,1),1)\n",
    "                \n",
    "            #two people on boat, carry two missionaries\n",
    "            if validate(i,j-2,3-i,3-j+2):\n",
    "                ADT.append((i,j,3-i,3-j,0),(i,j-2,3-i,3-j+2,1),1)\n",
    "                \n",
    "            #two people on boat, carry one cannibal and one missionary\n",
    "            if validate(i-1,j-1,3-i+1,3-j+1):\n",
    "                ADT.append((i,j,3-i,3-j,0),(i-1,j-1,3-i+1,3-j+1,1),1)\n",
    "            \n",
    "            #only one person on boat, carry one cannibal\n",
    "            if validate(i-1,j,3-i+1,3-j):\n",
    "                ADT.append((i,j,3-i,3-j,0),(i-1,j,3-i+1,3-j,1),1)\n",
    "            \n",
    "            #only one person on boat, carry one missionary\n",
    "            if validate(i,j-1,3-i,3-j+1):\n",
    "                ADT.append((i,j,3-i,3-j,0),(i,j-1,3-i,3-j+1,1),1)\n",
    "\n",
    "    #boat from right to left, vice versa\n",
    "    for i in range(0,4):\n",
    "        for j in range(0,4):\n",
    "            if validate(i+1,j,3-i-1,3-j):\n",
    "                ADT.append((i,j,3-i,3-j,1),(i+1,j,3-i-1,3-j,0),1)\n",
    "            if validate(i,j+1,3-i,3-j-1):\n",
    "                ADT.append((i,j,3-i,3-j,1),(i,j+1,3-i,3-j-1,0),1)\n",
    "            if validate(i+2,j,3-i-2,3-j):\n",
    "                ADT.append((i,j,3-i,3-j,1),(i+2,j,3-i-2,3-j,0),1)\n",
    "            if validate(i,j+2,3-i,3-j-2):\n",
    "                ADT.append((i,j,3-i,3-j,1),(i,j+2,3-i,3-j-2,0),1)\n",
    "            if validate(i+1,j+1,3-i-1,3-j-1):\n",
    "                ADT.append((i,j,3-i,3-j,1),(i+1,j+1,3-i-1,3-j-1,0),1)\n",
    "                \n",
    "    return ADT"
   ]
  },
  {
   "cell_type": "code",
   "execution_count": 3,
   "metadata": {},
   "outputs": [],
   "source": [
    "#validate the possibility of connecting two scenarios\n",
    "def validate(a,b,c,d):\n",
    "    \n",
    "    #number of missionaries or cannibals for either bank cannot be negative\n",
    "    if a<0 or b<0 or c<0 or d<0:\n",
    "        return False\n",
    "    \n",
    "    #for either bank, missionaries cannot be outnumbered by cannibals\n",
    "    if (a>b and b!=0) or (c>d and d!=0):\n",
    "        return False\n",
    "    else:\n",
    "        return True"
   ]
  },
  {
   "cell_type": "code",
   "execution_count": 4,
   "metadata": {},
   "outputs": [],
   "source": [
    "#viz the solution\n",
    "def draw_boat(ind,*args):\n",
    "    \n",
    "    #unpack\n",
    "    ax,process,bateau=args   \n",
    "    left_can,left_mis,right_can,right_mis,boat=process[ind]\n",
    "\n",
    "    #cleanse\n",
    "    ax.collections.clear()\n",
    "        \n",
    "    #viz left bank\n",
    "    ax.scatter(range(1,1+left_can),[2.5]*left_can,color='blue',label='cannibals')\n",
    "    ax.scatter(range(1,1+left_mis),[3]*left_mis,color='green',label='missionaries')\n",
    "    \n",
    "    #viz right bank\n",
    "    ax.scatter(range(10,10+right_can),[2.5]*right_can,color='blue')\n",
    "    ax.scatter(range(10,10+right_mis),[3]*right_mis,color='green')\n",
    "    \n",
    "    #viz boat\n",
    "    bateau.set_xdata([4,5,6] if boat==0 else [7,8,9])    "
   ]
  },
  {
   "cell_type": "code",
   "execution_count": 5,
   "metadata": {},
   "outputs": [],
   "source": [
    "#generate graph adt\n",
    "ADT=check_around()"
   ]
  },
  {
   "cell_type": "code",
   "execution_count": 6,
   "metadata": {},
   "outputs": [
    {
     "name": "stdout",
     "output_type": "stream",
     "text": [
      "length of the process: 11\n",
      "number of vertices BFS has travelled: 15\n"
     ]
    }
   ],
   "source": [
    "#bfs demonstrates the capability of finding an optimal for any graph adt\n",
    "#details of bfs can be found in the following link\n",
    "# https://github.com/je-suis-tm/graph-theory/blob/master/BFS%20DFS%20on%20DCG.ipynb\n",
    "len_of_process_bfs,process_bfs=graph.bfs_path(ADT,(3,3,0,0,0),(0,0,3,3,1))\n",
    "num_of_v_bfs=len([i for i in ADT.route() if ADT.route()[i]==1])\n",
    "ADT.clear(whole=True)\n",
    "\n",
    "print(f'length of the process:',len_of_process_bfs)\n",
    "print(f'number of vertices BFS has travelled:',num_of_v_bfs)"
   ]
  },
  {
   "cell_type": "code",
   "execution_count": 7,
   "metadata": {},
   "outputs": [
    {
     "name": "stdout",
     "output_type": "stream",
     "text": [
      "length of the process: 11\n",
      "number of vertices DFS has travelled: 12\n"
     ]
    }
   ],
   "source": [
    "#dfs traveled fewer vertices\n",
    "#in this case, dfs surprisingly offers an optimal solution\n",
    "#details of dfs can be found in the following link\n",
    "# https://github.com/je-suis-tm/graph-theory/blob/master/BFS%20DFS%20on%20DCG.ipynb\n",
    "len_of_process_dfs,process_dfs=graph.dfs_path(ADT,(3,3,0,0,0),(0,0,3,3,1))\n",
    "num_of_v_dfs=len([i for i in ADT.route() if ADT.route()[i]==1])\n",
    "ADT.clear(whole=True)\n",
    "\n",
    "print(f'length of the process:',len_of_process_dfs)\n",
    "print(f'number of vertices DFS has travelled:',num_of_v_dfs)"
   ]
  },
  {
   "cell_type": "code",
   "execution_count": 8,
   "metadata": {},
   "outputs": [
    {
     "name": "stdout",
     "output_type": "stream",
     "text": [
      "length of the process: 11\n",
      "number of vertices Dijkstra has travelled: 15\n"
     ]
    }
   ],
   "source": [
    "#dijkstra is guaranteed to find the optimal\n",
    "#details of dijkstra could be found in the following link\n",
    "# https://github.com/je-suis-tm/graph-theory/blob/master/dijkstra%20shortest%20path.ipynb\n",
    "len_of_process_dijkstra,process_dijkstra=graph.dijkstra(ADT,(3,3,0,0,0),(0,0,3,3,1))\n",
    "num_of_v_dijkstra=len([i for i in ADT.route() if ADT.route()[i]==1])\n",
    "ADT.clear(whole=True)\n",
    "\n",
    "print(f'length of the process:',len_of_process_dijkstra)\n",
    "print(f'number of vertices Dijkstra has travelled:',num_of_v_dijkstra)"
   ]
  },
  {
   "cell_type": "code",
   "execution_count": 9,
   "metadata": {},
   "outputs": [
    {
     "name": "stderr",
     "output_type": "stream",
     "text": [
      "MovieWriter ffmpeg unavailable.\n"
     ]
    },
    {
     "data": {
      "image/png": "[encoded data removed]",
      "text/plain": [
       "<Figure size 360x360 with 1 Axes>"
      ]
     },
     "metadata": {},
     "output_type": "display_data"
    }
   ],
   "source": [
    "fig,ax=plt.subplots(figsize=(5,5))\n",
    "\n",
    "#viz banks\n",
    "leftbank=plt.Rectangle((1,0),2,2,color='brown',\n",
    "                     label='left bank')\n",
    "rightbank=plt.Rectangle((10,0),2,2,color='orange',\n",
    "                       label='right bank')\n",
    "plt.gca().add_patch(leftbank)\n",
    "plt.gca().add_patch(rightbank)\n",
    "\n",
    "ax.scatter([1,2,3],[2.5,2.5,2.5],color='blue',label='cannibals')\n",
    "ax.scatter([1,2,3],[3,3,3],color='green',label='missionaries')\n",
    "ax.scatter([],[],color='blue')\n",
    "ax.scatter([],[],color='green')\n",
    "bateau=ax.plot([4,5,6],[2,2,2],linewidth=10,color='grey',label='boat')[0]\n",
    "\n",
    "ax.legend(loc='upper right')\n",
    "ax.set_xticks([])\n",
    "ax.set_yticks([])\n",
    "ax.set_xlim(0,13)\n",
    "ax.set_ylim(0,7)\n",
    "\n",
    "anim=pltani.FuncAnimation(fig,draw_boat,\n",
    "                          frames=len(process_dijkstra),\n",
    "                          interval=900,\n",
    "                          fargs=(ax,process_dijkstra,bateau))\n",
    "anim.save('missionaries and cannibals.gif')"
   ]
  },
  {
   "cell_type": "markdown",
   "metadata": {},
   "source": [
    "![alt text](./preview/missionaries and cannibals.gif)"
   ]
  },
  {
   "cell_type": "code",
   "execution_count": null,
   "metadata": {},
   "outputs": [],
   "source": []
  }
 ],
 "metadata": {
  "kernelspec": {
   "display_name": "Python 3",
   "language": "python",
   "name": "python3"
  },
  "language_info": {
   "codemirror_mode": {
    "name": "ipython",
    "version": 3
   },
   "file_extension": ".py",
   "mimetype": "text/x-python",
   "name": "python",
   "nbconvert_exporter": "python",
   "pygments_lexer": "ipython3",
   "version": "3.6.5"
  }
 },
 "nbformat": 4,
 "nbformat_minor": 2
}
