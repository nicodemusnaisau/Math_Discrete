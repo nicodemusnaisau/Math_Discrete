{
 "cells": [
  {
   "cell_type": "code",
   "execution_count": 1,
   "metadata": {},
   "outputs": [],
   "source": [
    "import os\n",
    "os.chdir('K:/ecole/github')\n",
    "\n",
    "#graph adt\n",
    "#check the below link for more details\n",
    "# https://github.com/je-suis-tm/graph-theory/blob/master/graph.py\n",
    "import graph"
   ]
  },
  {
   "cell_type": "code",
   "execution_count": 2,
   "metadata": {},
   "outputs": [],
   "source": [
    "#create a directed cyclical graph\n",
    "#it is both directed and cyclical\n",
    "data=[[1,3],\n",
    "[1,4],\n",
    "[2,3],\n",
    "[3,1],\n",
    "[3,5],\n",
    "[4,2],\n",
    "[5,6],\n",
    "[6,4]]\n",
    "\n",
    "DCG=graph.graph()\n",
    "\n",
    "for i in data:\n",
    "    DCG.append(i[0],i[1],1)"
   ]
  },
  {
   "cell_type": "markdown",
   "metadata": {},
   "source": [
    "![alt text](./preview/DCG.jpg)"
   ]
  },
  {
   "cell_type": "markdown",
   "metadata": {},
   "source": [
    "### Depth First Search\n",
    "\n",
    "&nbsp;\n",
    "\n",
    "DFS focuses on the depth of a topological structure. To put it in layman's terms, DFS keeps going forward along the first available branch until it reaches cul-de-sac. Then DFS starts backtracking until it finds an unvisited branch to reach the very end. DFS will repeat the previous two steps until all vertices have been investigated.\n",
    "\n",
    "Please refer to the website below for details\n",
    "\n",
    "https://en.wikipedia.org/wiki/Depth-first_search \n",
    "\n",
    "&nbsp;"
   ]
  },
  {
   "cell_type": "code",
   "execution_count": 3,
   "metadata": {},
   "outputs": [],
   "source": [
    "#dfs explores the vertex s first unvisited edge\n",
    "#it moves to the child vertex\n",
    "#again it finds the first unvisited edge of the child vertex\n",
    "#it moves to the grandchild vertex\n",
    "#it keeps repeating the process over and over again\n",
    "#until it reaches the brick wall or deja vu\n",
    "#it would move one layer up to find the second edge to go deeper\n",
    "#by concept, we have to use recursion to implement the algorithm\n",
    "def dfs(ADT,current):\n",
    "    \"\"\"Depth First Search\"\"\"\n",
    "    \n",
    "    #keep track of the visited vertices\n",
    "    ADT.visit(current)\n",
    "    \n",
    "    #viz\n",
    "    print(current)\n",
    "\n",
    "    #the loop is the backtracking part when it reaches cul-de-sac\n",
    "    for newpos in ADT.edge(current):\n",
    "        \n",
    "        #if the vertex hasnt been visited\n",
    "        #we call dfs recursively\n",
    "        if ADT.go(newpos)==0:\n",
    "            dfs(ADT,newpos)"
   ]
  },
  {
   "cell_type": "code",
   "execution_count": 4,
   "metadata": {
    "scrolled": true
   },
   "outputs": [
    {
     "name": "stdout",
     "output_type": "stream",
     "text": [
      "1\n",
      "3\n",
      "5\n",
      "6\n",
      "4\n",
      "2\n"
     ]
    }
   ],
   "source": [
    "#remember the order of the visit\n",
    "dfs(DCG,1)\n",
    "\n",
    "#reset status of visited\n",
    "DCG.clear(whole=True)"
   ]
  },
  {
   "cell_type": "markdown",
   "metadata": {},
   "source": [
    "![alt text](./preview/DFS.jpg)"
   ]
  },
  {
   "cell_type": "code",
   "execution_count": 5,
   "metadata": {},
   "outputs": [],
   "source": [
    "#non recursive dfs\n",
    "#the general structure is very similar to bfs\n",
    "#the only difference is we introduce a small queue called smallq\n",
    "#small queue contains all child vertices of the current vertex\n",
    "#we put elements of small queue at the beginning of big queue in exact order\n",
    "#in this way, when queue pops the first item\n",
    "#it would be the first child vertex\n",
    "#iteration trades time complexity for space complexity\n",
    "#it is not as graceful as recursive call\n",
    "#but it runs faster in a large graph adt\n",
    "def dfs_itr(ADT,current):\n",
    "    \"\"\"Depth First Search without Recursion\"\"\"\n",
    "    \n",
    "    queue=[]\n",
    "    queue.append(current)    \n",
    "    \n",
    "    #the loop is the backtracking part when it reaches cul-de-sac\n",
    "    while queue:\n",
    "        \n",
    "        #keep track of the visited vertices\n",
    "        current=queue.pop(0)\n",
    "        ADT.visit(current)\n",
    "        print(current)\n",
    "        \n",
    "        #priority queue\n",
    "        smallq=[]        \n",
    "        \n",
    "        #find children and add to the priority\n",
    "        for newpos in ADT.edge(current):\n",
    "            if ADT.go(newpos)==0:\n",
    "                \n",
    "                #if the child vertex has already been in queue\n",
    "                #we wanna prioritize it in queue\n",
    "                #as the children should be visited earlier than siblings\n",
    "                #dfs rule 101\n",
    "                #thus, we move it to the frontline of queue\n",
    "                if newpos in queue:\n",
    "                    queue.remove(newpos)\n",
    "                smallq.append(newpos)\n",
    "                \n",
    "        queue=smallq+queue"
   ]
  },
  {
   "cell_type": "code",
   "execution_count": 6,
   "metadata": {
    "scrolled": true
   },
   "outputs": [
    {
     "name": "stdout",
     "output_type": "stream",
     "text": [
      "1\n",
      "3\n",
      "5\n",
      "6\n",
      "4\n",
      "2\n"
     ]
    }
   ],
   "source": [
    "#the order is exactly the same as dfs recursion\n",
    "dfs_itr(DCG,1)\n",
    "\n",
    "#reset status of visited\n",
    "DCG.clear(whole=True)"
   ]
  },
  {
   "cell_type": "markdown",
   "metadata": {},
   "source": [
    "![alt text](./preview/DFS.jpg)"
   ]
  },
  {
   "cell_type": "markdown",
   "metadata": {},
   "source": [
    "### Breadth First Search\n",
    "\n",
    "&nbsp;\n",
    "\n",
    "Unlike the straight forward direction of DFS, BFS keeps snooping around sibling vertices until it has to go one layer deeper. BFS does not backtrack and it only goes deeper and deeper. When BFS encounter visited vertices, it simply ignores them unless it has no other vertices to visit. In that case, the traversal is over.\n",
    "\n",
    "Please refer to the website below for details\n",
    "\n",
    "https://en.wikipedia.org/wiki/Breadth-first_search\n",
    "\n",
    "&nbsp;"
   ]
  },
  {
   "cell_type": "code",
   "execution_count": 7,
   "metadata": {},
   "outputs": [],
   "source": [
    "#bfs checks all sibling vertices\n",
    "#before moving down to child vertices\n",
    "#then grandchild vertices\n",
    "#if the vertex has been visited\n",
    "#it simply skips that vertex\n",
    "def bfs(ADT,current):\n",
    "    \"\"\"Breadth First Search\"\"\"\n",
    "    \n",
    "    #create a queue with rule of first-in-first-out\n",
    "    #when the queue is not empty\n",
    "    #we explore the first-in vertex\n",
    "    #and append its children to the end of the queue\n",
    "    queue=[]\n",
    "    queue.append(current)\n",
    "    \n",
    "    while queue:\n",
    "                \n",
    "        #keep track of the visited vertices\n",
    "        current=queue.pop(0)\n",
    "        ADT.visit(current)\n",
    "        \n",
    "        #viz\n",
    "        print(current)\n",
    "        \n",
    "        for newpos in ADT.edge(current):\n",
    "            \n",
    "            #besides the condition of visited\n",
    "            #we wanna make sure the vertex hasnt been in the queue yet\n",
    "            #this condition wont have much impact on the result\n",
    "            #it just makes the algorithm more efficient\n",
    "            #lets avoid appending the same vertex into the list twice\n",
    "            if ADT.go(newpos)==0 and newpos not in queue:\n",
    "                queue.append(newpos)"
   ]
  },
  {
   "cell_type": "code",
   "execution_count": 8,
   "metadata": {},
   "outputs": [
    {
     "name": "stdout",
     "output_type": "stream",
     "text": [
      "1\n",
      "3\n",
      "4\n",
      "5\n",
      "2\n",
      "6\n"
     ]
    }
   ],
   "source": [
    "#the order is different from dfs\n",
    "bfs(DCG,1)\n",
    "\n",
    "#reset status of visited\n",
    "DCG.clear(whole=True)"
   ]
  },
  {
   "cell_type": "markdown",
   "metadata": {},
   "source": [
    "![alt text](./preview/BFS.jpg)"
   ]
  },
  {
   "cell_type": "markdown",
   "metadata": {},
   "source": [
    "### Bidirectional Breadth First Search\n",
    "\n",
    "&nbsp;\n",
    "\n",
    "As the name suggests, bidirectional BFS is a variation of BFS. It consists of two BFS with different directions. One BFS starts from the beginning vertex and the other BFS starts from the ending vertex. BFS of both ends expand their own search trees until two trees get connected by one vertex (potentially more than one). The concept is similar to Borůvka’s algorithm. When two connected components form a bigger one, the algorithm stops and returns a result. Bidirectional BFS outperforms a conventional BFS in time complexity. Since two graph traversal happens at the same time, it can hypothetically cut the required time in half. In the worst case, it is as bad as a traditional BFS. However, there is always a tradeoff. Bidirectional BFS requires two more conditions which BFS does not. One, there is an extra parameter, an ending vertex. Two, the underlying graph has to be undirected, otherwise the intersection does not guarantee a connecting path.\n",
    "\n",
    "Please refer to the website below for details\n",
    "\n",
    "https://efficientcodeblog.wordpress.com/2017/12/13/bidirectional-search-two-end-bfs/\n",
    "\n",
    "\n",
    "&nbsp;"
   ]
  },
  {
   "cell_type": "code",
   "execution_count": 9,
   "metadata": {},
   "outputs": [],
   "source": [
    "#bidir bfs has two bfs going on at the same time\n",
    "#one from the start and one from the end\n",
    "#when the intersection occurs\n",
    "#the shortest path is found\n",
    "def bidir_bfs(ADT,start,end):\n",
    "    \"\"\"Bidirectional Breadth First Search\"\"\"\n",
    "    \n",
    "    #create queues with rule of first-in-first-out\n",
    "    #queue1 for bfs from start\n",
    "    #queue2 for bfs from end\n",
    "    queue1=[]\n",
    "    queue1.append(start)\n",
    "    queue2=[]\n",
    "    queue2.append(end)\n",
    "    visited1=[]\n",
    "    visited2=[]\n",
    "    \n",
    "    while queue1 or queue2:\n",
    "            \n",
    "        #keep track of the visited vertices\n",
    "        if queue1:\n",
    "            current1=queue1.pop(0) \n",
    "            visited1.append(current1)\n",
    "            ADT.visit(current1)\n",
    "        if queue2:\n",
    "            current2=queue2.pop(0)\n",
    "            visited2.append(current2)  \n",
    "            ADT.visit(current2)      \n",
    "        \n",
    "        #viz\n",
    "        print(current1,current2)\n",
    "        \n",
    "        #intersection of two trees\n",
    "        stop=False\n",
    "        for i in ADT.vertex():\n",
    "            if i in visited1 and i in visited2:\n",
    "                stop=True\n",
    "                break\n",
    "        if stop:\n",
    "            break\n",
    "        \n",
    "        #do not revisit a vertex\n",
    "        for newpos in ADT.edge(current1):            \n",
    "            if newpos not in visited1 and newpos not in queue1:\n",
    "                queue1.append(newpos)\n",
    "        for newpos in ADT.edge(current2):            \n",
    "            if newpos not in visited2 and newpos not in queue2:\n",
    "                queue2.append(newpos)"
   ]
  },
  {
   "cell_type": "code",
   "execution_count": 10,
   "metadata": {},
   "outputs": [],
   "source": [
    "#create an undirected graph\n",
    "data=[[1,3],\n",
    "[1,4],\n",
    "[2,3],\n",
    "[3,1],\n",
    "[3,5],\n",
    "[4,2],\n",
    "[5,6],\n",
    "[6,4]]\n",
    "\n",
    "UG=graph.graph()\n",
    "for i in data:\n",
    "    UG.append(i[0],i[1],1)\n",
    "    UG.append(i[1],i[0],1)"
   ]
  },
  {
   "cell_type": "markdown",
   "metadata": {},
   "source": [
    "![alt text](./preview/UG.jpg)"
   ]
  },
  {
   "cell_type": "code",
   "execution_count": 11,
   "metadata": {},
   "outputs": [
    {
     "name": "stdout",
     "output_type": "stream",
     "text": [
      "1 6\n",
      "3 5\n",
      "4 4\n",
      "{1: 1, 3: 1, 4: 1, 2: 0, 5: 1, 6: 1}\n"
     ]
    }
   ],
   "source": [
    "#to reach 6 from 1\n",
    "#only two iterations are needed\n",
    "#in bfs, we have to iterate through all the vertices\n",
    "bidir_bfs(UG,1,6)\n",
    "\n",
    "print(UG.route())\n",
    "\n",
    "#reset status of visited\n",
    "UG.clear(whole=True)\n"
   ]
  },
  {
   "cell_type": "markdown",
   "metadata": {},
   "source": [
    "![alt text](./preview/BiBFS.jpg)"
   ]
  },
  {
   "cell_type": "code",
   "execution_count": null,
   "metadata": {},
   "outputs": [],
   "source": []
  }
 ],
 "metadata": {
  "kernelspec": {
   "display_name": "Python 3",
   "language": "python",
   "name": "python3"
  },
  "language_info": {
   "codemirror_mode": {
    "name": "ipython",
    "version": 3
   },
   "file_extension": ".py",
   "mimetype": "text/x-python",
   "name": "python",
   "nbconvert_exporter": "python",
   "pygments_lexer": "ipython3",
   "version": "3.6.5"
  }
 },
 "nbformat": 4,
 "nbformat_minor": 2
}
