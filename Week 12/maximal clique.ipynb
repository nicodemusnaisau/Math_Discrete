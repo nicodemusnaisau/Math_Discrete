{
 "cells": [
  {
   "cell_type": "markdown",
   "metadata": {},
   "source": [
    "### Maximal Clique\n",
    "\n",
    "&nbsp;\n",
    "\n",
    "A clique is a subset of a graph that each vertex is interconnected. A maximal clique is a clique that has reached its maximum degree. No extra vertex can be added into the clique so that each vertex is interconnected.\n",
    "\n",
    "For details, you can check out this video.\n",
    "\n",
    "https://www.youtube.com/watch?v=gjRcTH2p65c\n",
    "\n",
    "Bron-Kerbosch algorithm is the most efficient way to obtain maximal cliques from a graph.\n",
    "\n",
    "&nbsp;"
   ]
  },
  {
   "cell_type": "code",
   "execution_count": 1,
   "metadata": {},
   "outputs": [],
   "source": [
    "import copy\n",
    "import random as rd\n",
    "import os\n",
    "os.chdir('K:/ecole/github')\n",
    "\n",
    "#graph adt\n",
    "#check the below link for more details\n",
    "# https://github.com/je-suis-tm/graph-theory/blob/master/graph.py\n",
    "import graph"
   ]
  },
  {
   "cell_type": "code",
   "execution_count": 2,
   "metadata": {},
   "outputs": [],
   "source": [
    "#to get maximal clique\n",
    "#we need an undirected graph\n",
    "#in another word, vertices with edge connections \n",
    "#are mutually connected to each other\n",
    "ADT=graph.graph()\n",
    "ADT.append(1,2,6)\n",
    "ADT.append(1,3,5)\n",
    "ADT.append(2,1,6)\n",
    "ADT.append(2,4,8)\n",
    "ADT.append(2,6,3)\n",
    "ADT.append(3,1,5)\n",
    "ADT.append(3,4,2)\n",
    "ADT.append(3,5,7)\n",
    "ADT.append(4,2,8)\n",
    "ADT.append(4,3,2)\n",
    "ADT.append(4,5,7)\n",
    "ADT.append(5,3,3)\n",
    "ADT.append(5,4,7)\n",
    "ADT.append(5,7,9)\n",
    "ADT.append(6,2,3)\n",
    "ADT.append(6,7,5)\n",
    "ADT.append(7,5,9)\n",
    "ADT.append(7,6,5)\n",
    "ADT.append(7,8,13)\n",
    "ADT.append(8,7,13)"
   ]
  },
  {
   "cell_type": "markdown",
   "metadata": {},
   "source": [
    "![alt text](./preview/minimum%20spanning%20tree%20origin.jpg)"
   ]
  },
  {
   "cell_type": "code",
   "execution_count": 3,
   "metadata": {},
   "outputs": [
    {
     "data": {
      "text/plain": [
       "{1: {2: 6, 3: 5},\n",
       " 2: {1: 6, 4: 8, 6: 3},\n",
       " 3: {1: 5, 4: 2, 5: 7},\n",
       " 4: {2: 8, 3: 2, 5: 7},\n",
       " 6: {2: 3, 7: 5},\n",
       " 5: {3: 3, 4: 7, 7: 9},\n",
       " 7: {5: 9, 6: 5, 8: 13},\n",
       " 8: {7: 13}}"
      ]
     },
     "execution_count": 3,
     "metadata": {},
     "output_type": "execute_result"
    }
   ],
   "source": [
    "ADT.reveal()"
   ]
  },
  {
   "cell_type": "code",
   "execution_count": 4,
   "metadata": {},
   "outputs": [
    {
     "data": {
      "text/plain": [
       "[[0, 0, 0, 0, 0, 0, 0, 0, 0],\n",
       " [0, 0, 1, 1, 0, 0, 0, 0, 0],\n",
       " [0, 1, 0, 0, 1, 0, 1, 0, 0],\n",
       " [0, 1, 0, 0, 1, 1, 0, 0, 0],\n",
       " [0, 0, 1, 1, 0, 1, 0, 0, 0],\n",
       " [0, 0, 0, 1, 1, 0, 0, 1, 0],\n",
       " [0, 0, 1, 0, 0, 0, 0, 1, 0],\n",
       " [0, 0, 0, 0, 0, 1, 1, 0, 1],\n",
       " [0, 0, 0, 0, 0, 0, 0, 1, 0]]"
      ]
     },
     "execution_count": 4,
     "metadata": {},
     "output_type": "execute_result"
    }
   ],
   "source": [
    "ADT.mat()"
   ]
  },
  {
   "cell_type": "code",
   "execution_count": 5,
   "metadata": {},
   "outputs": [],
   "source": [
    "#using brute force to solve maximal clique problem\n",
    "#as maximal clique problem is np complete\n",
    "#back tracking algorithm has very high time complexity\n",
    "#the idea is to iterate all subsets and combinations\n",
    "#and find out which is a maximal clique\n",
    "\n",
    "#clique_min defines the minimum size of maximal clique\n",
    "#in practical case, we dont want to include a two edge clique\n",
    "def backtrack(graph,clique_min=2):\n",
    "    \"\"\"use brute force backtracking to find maximal cliques\"\"\"\n",
    "    \n",
    "    #each vertex in the graph acts as a pivot\n",
    "    #we form a new tree to check all the subsets that contain pivot\n",
    "    queue=graph.vertex()\n",
    "    \n",
    "    #output stores all the maximal cliques\n",
    "    output=[]\n",
    "    \n",
    "    #visited keeps track of all the pivot vertices we checked\n",
    "    visited=[]\n",
    "\n",
    "    for i in queue:\n",
    "        \n",
    "        #check all the vertices adjacent to the pivot i\n",
    "        adjacency=graph.edge(i)\n",
    "\n",
    "        for j in adjacency:\n",
    "            \n",
    "            #each edge that connects two vertices can form a clique\n",
    "            clique=[i,j]\n",
    "            \n",
    "            #check all the vertices adjacent to both pivot i and current node j\n",
    "            intersection=[node for node in graph.edge(j) if node in adjacency]\n",
    "            \n",
    "            #to remove duplicates and reduce iterations\n",
    "            #we check the reverse order as well\n",
    "            if f'{i}-{j}' in visited or f'{j}-{i}' in visited:\n",
    "                continue\n",
    "\n",
    "            visited.append(f'{i}-{j}')\n",
    "            \n",
    "            #the current node becomes k\n",
    "            #both i and j are already in the clique\n",
    "            #now we have to find a maximal clique\n",
    "            for k in intersection:\n",
    "                \n",
    "                stop=False\n",
    "                \n",
    "                #if node k is adjacent to all the nodes in the existing clique\n",
    "                for l in clique:\n",
    "                    if k not in graph.edge(l):\n",
    "                        stop=True\n",
    "                        break\n",
    "\n",
    "                if stop:\n",
    "                    continue\n",
    "                else:\n",
    "                    clique.append(k)\n",
    "            \n",
    "            #minimum clique size is 2 by default\n",
    "            #basically all edges are included\n",
    "            #as this is an undirected graph\n",
    "            #we can set it to 3 to be more useful\n",
    "            #use sorted to avoid duplicates in the output\n",
    "            if len(clique)>=clique_min and sorted(clique) not in output:\n",
    "                output.append(sorted(clique))\n",
    "                \n",
    "    return output"
   ]
  },
  {
   "cell_type": "code",
   "execution_count": 6,
   "metadata": {},
   "outputs": [
    {
     "data": {
      "text/plain": [
       "[[1, 2], [1, 3], [2, 4], [2, 6], [3, 4, 5], [6, 7], [5, 7], [7, 8]]"
      ]
     },
     "execution_count": 6,
     "metadata": {},
     "output_type": "execute_result"
    }
   ],
   "source": [
    "backtrack(ADT)"
   ]
  },
  {
   "cell_type": "markdown",
   "metadata": {},
   "source": [
    "![alt text](./preview/maximal%20clique.jpg)"
   ]
  },
  {
   "cell_type": "markdown",
   "metadata": {},
   "source": [
    "### Bron Kerbosch\n",
    "\n",
    "&nbsp;\n",
    "\n",
    "I always admire how people write an elegant recursive algorithm. Bron Kerbosch is one of the most elegant algorithms. It takes less than 10 lines to replicate the process of my backtracking function.\n",
    "\n",
    "The implementation comes from the pseudocode on Wikipedia.\n",
    "\n",
    "https://en.wikipedia.org/wiki/Bron%E2%80%93Kerbosch_algorithm\n",
    "\n",
    "If you need more detailed explanation, you can check the link below.\n",
    "\n",
    "https://iq.opengenus.org/bron-kerbosch-algorithm/\n",
    "\n",
    "If you have trouble understanding recursion, you can check my repository.\n",
    "\n",
    "https://github.com/je-suis-tm/recursion-and-dynamic-programming\n",
    "\n",
    "&nbsp;"
   ]
  },
  {
   "cell_type": "markdown",
   "metadata": {},
   "source": [
    "#### Without Pivoting\n",
    "&nbsp;"
   ]
  },
  {
   "cell_type": "code",
   "execution_count": 7,
   "metadata": {},
   "outputs": [],
   "source": [
    "#in this function, P stands for priority queue, where pending vertices are\n",
    "#R stands for result set, X stands for checked list\n",
    "def bron_kerbosch(ADT,R=set(),P=set(),X=set()):\n",
    "    \"\"\"Bron Kerbosch algorithm to find maximal cliques\"\"\"\n",
    "\n",
    "    #when we have nothing left in the priority queue and checked list\n",
    "    #by definition, no extra vertex can be added into the clique\n",
    "    #therefore, we find a maximal clique\n",
    "    if not P and not X:\n",
    "        yield R\n",
    "        \n",
    "    #while we still got vertices in priority queue\n",
    "    #we pick a random adjacent vertex and add into the clique\n",
    "    while P:\n",
    "        \n",
    "        v=P.pop()\n",
    "        \n",
    "        #the crucial part of the algorithm is here\n",
    "        yield from bron_kerbosch(ADT,\n",
    "                                 \n",
    "                                 #we add a new adjacent vertex into the result set\n",
    "                                 #trying to expand the clique to the maximal\n",
    "                                 R=R.union([v]),\n",
    "                                 \n",
    "                                 #the priority queue is bounded by the rule of adjacency\n",
    "                                 #a vertex can be added into the priority queue\n",
    "                                 #if and only if it is neighbor to everyone in the current clique\n",
    "                                 P=P.intersection(ADT.edge(v)),\n",
    "                                 \n",
    "                                 #the checked list is bounded by the rule of adjacency as well\n",
    "                                 #hence, we can minimize the iteration we need\n",
    "                                 X=X.intersection(ADT.edge(v)))\n",
    "        \n",
    "        #the vertex has been checked\n",
    "        X.add(v)"
   ]
  },
  {
   "cell_type": "code",
   "execution_count": 8,
   "metadata": {
    "scrolled": true
   },
   "outputs": [
    {
     "name": "stdout",
     "output_type": "stream",
     "text": [
      "[{1, 2}, {1, 3}, {2, 4}, {2, 6}, {3, 4, 5}, {5, 7}, {6, 7}, {8, 7}]\n"
     ]
    }
   ],
   "source": [
    "print(list(bron_kerbosch(ADT,P=set(ADT.vertex()))))"
   ]
  },
  {
   "cell_type": "markdown",
   "metadata": {},
   "source": [
    "&nbsp;\n",
    "#### With Pivoting\n",
    "&nbsp;"
   ]
  },
  {
   "cell_type": "code",
   "execution_count": 9,
   "metadata": {},
   "outputs": [],
   "source": [
    "def bron_kerbosch_pivot(ADT,R=set(),P=set(),X=set()):\n",
    "    \"\"\"Bron Kerbosch algorithm with pivoting to find maximal cliques\"\"\"\n",
    "\n",
    "    if not P and not X:\n",
    "        yield R\n",
    "    \n",
    "    #the crucial part of pivoting is here\n",
    "    #we choose a pivot vertex u from the union of pending and processed vertices\n",
    "    #we delay the neighbors of pivot vertex from being added to the clique \n",
    "    #of course they will be added in the future recursive calls\n",
    "    #we do that, we can make fewer iterations in recursion\n",
    "    #if you count the recursive calls\n",
    "    #you will find out pivot version reduce 2 recursive calls\n",
    "    try:\n",
    "        u=list(P.union(X)).pop()\n",
    "        N=P.difference(ADT.edge(u))\n",
    "    \n",
    "    #sometimes our choice sucks\n",
    "    #the neighbors of pivot u are equivalent to priority queue\n",
    "    #in that case we just roll back to the function without pivoting\n",
    "    except IndexError:\n",
    "        N=P\n",
    "    \n",
    "    for v in N:\n",
    "        \n",
    "        yield from bron_kerbosch_pivot(ADT,\n",
    "                                       R=R.union([v]),\n",
    "                                       P=P.intersection(ADT.edge(v)),\n",
    "                                       X=X.intersection(ADT.edge(v)))\n",
    "        P.remove(v)\n",
    "        X.add(v)"
   ]
  },
  {
   "cell_type": "code",
   "execution_count": 10,
   "metadata": {},
   "outputs": [
    {
     "name": "stdout",
     "output_type": "stream",
     "text": [
      "[{1, 2}, {1, 3}, {2, 4}, {2, 6}, {3, 4, 5}, {5, 7}, {6, 7}, {8, 7}]\n"
     ]
    }
   ],
   "source": [
    "print(list(bron_kerbosch_pivot(ADT,P=set(ADT.vertex()))))"
   ]
  },
  {
   "cell_type": "markdown",
   "metadata": {},
   "source": [
    "&nbsp;\n",
    "#### With Vertex Ordering\n",
    "&nbsp;"
   ]
  },
  {
   "cell_type": "code",
   "execution_count": 11,
   "metadata": {},
   "outputs": [],
   "source": [
    "#the easiest way to understand is to think of k core\n",
    "#a maximal clique suffices to the condition of a k core network\n",
    "#because a maximal clique is fully connected\n",
    "#each vertex inside is guaranteed to have degree of k\n",
    "#where k+1 is the order of the maximal clique\n",
    "#but the reverse does not hold\n",
    "#each vertex is ranked by its guaranteed degree in degeneracy ordering\n",
    "#when we choose vertex from degeneracy ordering\n",
    "#we output the maximal cliques in ascending order\n",
    "#the later vertices extracted from degeneracy ordering\n",
    "#are more likely to form a maximal clique of a larger degree altogether\n",
    "#in this way, we can potentially reduce the iteration\n",
    "def bron_kerbosch_order(ADT,R=set(),P=set(),X=set()):\n",
    "    \"\"\"Bron Kerbosch algorithm with vertex ordering to find maximal cliques\"\"\"\n",
    "    \n",
    "    #please check the details of degeneracy ordering from k core\n",
    "    # https://github.com/je-suis-tm/graph-theory/blob/master/k%20core.ipynb\n",
    "    #we only need degeneracy ordering L\n",
    "    deg_order=graph.matula_beck(ADT,ordering=True)\n",
    "    \n",
    "    if not P and not X:\n",
    "        yield R\n",
    "    \n",
    "    for v in deg_order:\n",
    "        yield from bron_kerbosch_pivot(ADT,\n",
    "                                       R=R.union([v]),\n",
    "                                       P=P.intersection(ADT.edge(v)),\n",
    "                                       X=X.intersection(ADT.edge(v)))\n",
    "        P.remove(v)\n",
    "        X.add(v)"
   ]
  },
  {
   "cell_type": "code",
   "execution_count": 12,
   "metadata": {},
   "outputs": [
    {
     "name": "stdout",
     "output_type": "stream",
     "text": [
      "[{8, 7}, {1, 2}, {1, 3}, {2, 4}, {2, 6}, {6, 7}, {5, 7}, {3, 4, 5}]\n"
     ]
    }
   ],
   "source": [
    "#if you print degeneracy ordering\n",
    "#you will notice 3,4,5 is at the bottom of it\n",
    "#and 3,4,5 forms a perfect maximal clique\n",
    "print(list(bron_kerbosch_order(ADT,P=set(ADT.vertex()))))"
   ]
  },
  {
   "cell_type": "markdown",
   "metadata": {},
   "source": [
    "&nbsp;\n",
    "#### Time Complexity Comparison\n",
    "&nbsp;"
   ]
  },
  {
   "cell_type": "code",
   "execution_count": 13,
   "metadata": {},
   "outputs": [],
   "source": [
    "#this is a maximum clique with degree 100\n",
    "ADT=graph.graph()\n",
    "\n",
    "for i in range(1,101):\n",
    "    for j in range(1,101):\n",
    "        if i!=j:\n",
    "            ADT.append(i,j,0)"
   ]
  },
  {
   "cell_type": "code",
   "execution_count": 14,
   "metadata": {
    "scrolled": true
   },
   "outputs": [],
   "source": [
    "#outside of the maximum clique\n",
    "#we add more one more layer\n",
    "for i in range(1,101):\n",
    "    ADT.append(i,i+100,0)\n",
    "    ADT.append(i+100,i,0)"
   ]
  },
  {
   "cell_type": "code",
   "execution_count": 15,
   "metadata": {},
   "outputs": [],
   "source": [
    "#outside the first layer\n",
    "#we randomly add a second layer\n",
    "#which should construct some new maximal cliques with degree 2\n",
    "for i in range(1,101):\n",
    "    if rd.choice([0,1])==1:\n",
    "        ADT.append(i,i+200,0)\n",
    "        ADT.append(i+200,i,0)\n",
    "        ADT.append(i+200,i+100,0)\n",
    "        ADT.append(i+100,i+200,0)\n",
    "    else:\n",
    "        ADT.append(i+100,i+200,0)\n",
    "        ADT.append(i+200,i+100,0)"
   ]
  },
  {
   "cell_type": "code",
   "execution_count": 16,
   "metadata": {},
   "outputs": [],
   "source": [
    "#here comes the third layer of the random graph\n",
    "#it provides the chance to form some new maximal cliques with degree 3\n",
    "for i in range(1,101):\n",
    "    if rd.choice([0,1])==1:\n",
    "        ADT.append(i,i+300,0)\n",
    "        ADT.append(i+300,i,0)\n",
    "        ADT.append(i+300,i+100,0)\n",
    "        ADT.append(i+100,i+300,0)\n",
    "        ADT.append(i+200,i+300,0)\n",
    "        ADT.append(i+300,i+200,0)\n",
    "    else:\n",
    "        ADT.append(i+100,i+300,0)\n",
    "        ADT.append(i+300,i+100,0)"
   ]
  },
  {
   "cell_type": "code",
   "execution_count": 17,
   "metadata": {},
   "outputs": [
    {
     "name": "stdout",
     "output_type": "stream",
     "text": [
      "11.7 µs ± 286 ns per loop (mean ± std. dev. of 7 runs, 100000 loops each)\n"
     ]
    }
   ],
   "source": [
    "%timeit bron_kerbosch(ADT,P=set(ADT.vertex()))"
   ]
  },
  {
   "cell_type": "code",
   "execution_count": 18,
   "metadata": {},
   "outputs": [
    {
     "name": "stdout",
     "output_type": "stream",
     "text": [
      "12.1 µs ± 249 ns per loop (mean ± std. dev. of 7 runs, 100000 loops each)\n"
     ]
    }
   ],
   "source": [
    "%timeit bron_kerbosch_pivot(ADT,P=set(ADT.vertex()))"
   ]
  },
  {
   "cell_type": "code",
   "execution_count": 19,
   "metadata": {
    "scrolled": false
   },
   "outputs": [
    {
     "name": "stdout",
     "output_type": "stream",
     "text": [
      "11.4 µs ± 107 ns per loop (mean ± std. dev. of 7 runs, 100000 loops each)\n"
     ]
    }
   ],
   "source": [
    "%timeit bron_kerbosch_order(ADT,P=set(ADT.vertex()))"
   ]
  },
  {
   "cell_type": "markdown",
   "metadata": {},
   "source": [
    "&nbsp;\n",
    "### Further Reading\n",
    "&nbsp;\n",
    "\n",
    "1. Bron, C. and J. Kerbosch (1971), \"Finding All Cliques of an Undirected Graph\"\n",
    "\n",
    "https://www.ics.uci.edu/~johnsong/papers/Bron%20and%20Kerbosch%20-%20Finding%20All%20Cliques%20of%20an%20Undirected%20Graph.pdf\n",
    "\n",
    "2. Eppstein, D., M. Löffler and D. Strash (2010), \"Listing All Maximal Cliques in Sparse Graphs in Near-optimal Time\"\n",
    "\n",
    "https://arxiv.org/abs/1006.5440\n",
    "    \n",
    "3. Tomitaa, E., A. Tanakaa and H. Takahashia (2006), \"The worst-case time complexity for generating all maximal cliques and computational experiments\"\n",
    "\n",
    "https://www.sciencedirect.com/science/article/pii/S0304397506003586\n",
    "\n",
    "&nbsp;"
   ]
  }
 ],
 "metadata": {
  "kernelspec": {
   "display_name": "Python 3",
   "language": "python",
   "name": "python3"
  },
  "language_info": {
   "codemirror_mode": {
    "name": "ipython",
    "version": 3
   },
   "file_extension": ".py",
   "mimetype": "text/x-python",
   "name": "python",
   "nbconvert_exporter": "python",
   "pygments_lexer": "ipython3",
   "version": "3.6.5"
  }
 },
 "nbformat": 4,
 "nbformat_minor": 2
}
