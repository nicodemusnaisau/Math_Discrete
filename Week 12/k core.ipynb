{
 "cells": [
  {
   "cell_type": "markdown",
   "metadata": {},
   "source": [
    "### K Core\n",
    "\n",
    "&nbsp;\n",
    "\n",
    "K core or K degenerate or coloring number refers to a subset of graph ADT where each vertex has a degree of at least K.\n",
    "\n",
    "For details, you can check out this video.\n",
    "\n",
    "https://www.youtube.com/watch?v=rHVrgbc_3JA\n",
    "\n",
    "&nbsp;"
   ]
  },
  {
   "cell_type": "code",
   "execution_count": 1,
   "metadata": {},
   "outputs": [],
   "source": [
    "import copy\n",
    "import os\n",
    "os.chdir('K:/ecole/github')\n",
    "\n",
    "#graph adt\n",
    "#check the below link for more details\n",
    "# https://github.com/je-suis-tm/graph-theory/blob/master/graph.py\n",
    "import graph"
   ]
  },
  {
   "cell_type": "code",
   "execution_count": 2,
   "metadata": {},
   "outputs": [],
   "source": [
    "#to get k core/degenerate\n",
    "#we need an undirected graph\n",
    "#in another word, vertices with edge connections \n",
    "#are mutually connected to each other\n",
    "ADT=graph.graph()\n",
    "ADT.append(1,2,0)\n",
    "ADT.append(1,3,0)\n",
    "ADT.append(1,4,0)\n",
    "ADT.append(1,6,0)\n",
    "ADT.append(2,1,0)\n",
    "ADT.append(3,1,0)\n",
    "ADT.append(4,1,0)\n",
    "ADT.append(6,1,0)\n",
    "\n",
    "ADT.append(2,3,0)\n",
    "ADT.append(2,4,0)\n",
    "ADT.append(2,6,0)\n",
    "ADT.append(3,2,0)\n",
    "ADT.append(4,2,0)\n",
    "ADT.append(6,2,0)\n",
    "\n",
    "ADT.append(3,4,0)\n",
    "ADT.append(3,7,0)\n",
    "ADT.append(4,3,0)\n",
    "ADT.append(7,3,0)\n",
    "\n",
    "ADT.append(4,5,0)\n",
    "ADT.append(5,4,0)\n",
    "\n",
    "ADT.append(5,6,0)\n",
    "ADT.append(6,5,0)"
   ]
  },
  {
   "cell_type": "code",
   "execution_count": 3,
   "metadata": {
    "scrolled": true
   },
   "outputs": [
    {
     "data": {
      "text/plain": [
       "{1: {2: 0, 3: 0, 4: 0, 6: 0},\n",
       " 2: {1: 0, 3: 0, 4: 0, 6: 0},\n",
       " 3: {1: 0, 2: 0, 4: 0, 7: 0},\n",
       " 4: {1: 0, 2: 0, 3: 0, 5: 0},\n",
       " 6: {1: 0, 2: 0, 5: 0},\n",
       " 7: {3: 0},\n",
       " 5: {4: 0, 6: 0}}"
      ]
     },
     "execution_count": 3,
     "metadata": {},
     "output_type": "execute_result"
    }
   ],
   "source": [
    "ADT.reveal()"
   ]
  },
  {
   "cell_type": "markdown",
   "metadata": {},
   "source": [
    "![alt text](./preview/kcore1.png)"
   ]
  },
  {
   "cell_type": "code",
   "execution_count": 4,
   "metadata": {},
   "outputs": [],
   "source": [
    "#sort the vertices by their degree in descending order\n",
    "def sort_by_degree(ADT):\n",
    "    \"\"\"sort vertices by degree\"\"\"\n",
    "    \n",
    "    dic={}\n",
    "    for i in ADT.vertex():\n",
    "        dic[i]=ADT.degree(i)\n",
    "    \n",
    "    #the dictionary is sorted by value and exported as a list in descending order\n",
    "    output=[i[0] for i in sorted(dic.items(), key=lambda x:x[1])]\n",
    "    \n",
    "    return output[::-1]"
   ]
  },
  {
   "cell_type": "code",
   "execution_count": 5,
   "metadata": {},
   "outputs": [],
   "source": [
    "#unlike other problems in graph theory\n",
    "#i struggle to find a popular algorithm for degeneracy ordering\n",
    "#hence, i implement my own algorithm to find a k core graph\n",
    "#basically i am using priority queue to find k core by brute force\n",
    "#the priority queue is solved by two lists\n",
    "#one as a queue, the other as a priority list\n",
    "def find_kcore(core,ADT):\n",
    "    \"\"\"use brute force backtracking to find k core\"\"\"\n",
    "    \n",
    "    #make a subset of the original graph\n",
    "    subset=copy.deepcopy(ADT)\n",
    "    \n",
    "    #fill the queue with all the vertices in the graph\n",
    "    #we sort the queue by the degree of each vertex\n",
    "    #so we can remove the node with the minimum degree first\n",
    "    queue=sort_by_degree(subset)\n",
    "    \n",
    "    #pop a random vertex from the queue\n",
    "    node=queue.pop()\n",
    "    \n",
    "    #initialize the priority list\n",
    "    priority=set([])\n",
    "    \n",
    "    #queue contains all the vertices pending for check\n",
    "    #when the queue is empty, we finish the traversal\n",
    "    while queue:\n",
    "        \n",
    "        #to create k edges for each vertex in the graph\n",
    "        #you need at least k+1 vertices\n",
    "        #as the number of vertices drops below k+1\n",
    "        #for the sake of efficiency\n",
    "        #there is no point of going further\n",
    "        if len(subset.vertex())<core+1:\n",
    "            return {}\n",
    "        \n",
    "        #check the degree of a given node\n",
    "        #if the degree is smaller than our target core number\n",
    "        #we will remove the node\n",
    "        if subset.degree(node)<core:\n",
    "            \n",
    "            #if the neighbors of a given node exist in the priority list\n",
    "            #we will check these adjacent vertices first\n",
    "            #these vertices are top priority\n",
    "            #because the vertex adjacent to the deleted node suffers from degree loss\n",
    "            #if we cannot find any top priority\n",
    "            #we take a union and settle with lower priority\n",
    "            if priority.intersection(set(subset.edge(node))):\n",
    "                priority=priority.intersection(set(subset.edge(node)))\n",
    "            else:\n",
    "                priority=priority.union(set(subset.edge(node)))\n",
    "            \n",
    "            #sort priority list by the degree of each vertex\n",
    "            #so we can remove the vertex with the minimum degree first\n",
    "            priority=set([i for i in sort_by_degree(subset) if i in priority])\n",
    "            \n",
    "            subset.remove(node)\n",
    "\n",
    "        #when we have something in the priority list\n",
    "        #we always examine those vertices first\n",
    "        #and these vertices should be removed from the queue as well\n",
    "        #when we have an empty priority list\n",
    "        #we get a random node from the queue\n",
    "        if priority:\n",
    "            node=priority.pop()\n",
    "            try:\n",
    "                queue.remove(node)\n",
    "            except ValueError:\n",
    "                pass\n",
    "        else:\n",
    "            node=queue.pop()       \n",
    "        \n",
    "    return subset.reveal()"
   ]
  },
  {
   "cell_type": "code",
   "execution_count": 6,
   "metadata": {
    "scrolled": true
   },
   "outputs": [
    {
     "data": {
      "text/plain": [
       "{1: {2: 0, 3: 0, 4: 0, 6: 0},\n",
       " 2: {1: 0, 3: 0, 4: 0, 6: 0},\n",
       " 3: {1: 0, 2: 0, 4: 0, 7: 0},\n",
       " 4: {1: 0, 2: 0, 3: 0, 5: 0},\n",
       " 6: {1: 0, 2: 0, 5: 0},\n",
       " 7: {3: 0},\n",
       " 5: {4: 0, 6: 0}}"
      ]
     },
     "execution_count": 6,
     "metadata": {},
     "output_type": "execute_result"
    }
   ],
   "source": [
    "find_kcore(1,ADT)"
   ]
  },
  {
   "cell_type": "markdown",
   "metadata": {},
   "source": [
    "![alt text](./preview/kcore1.png)"
   ]
  },
  {
   "cell_type": "code",
   "execution_count": 7,
   "metadata": {},
   "outputs": [
    {
     "data": {
      "text/plain": [
       "{1: {2: 0, 3: 0, 4: 0, 6: 0},\n",
       " 2: {1: 0, 3: 0, 4: 0, 6: 0},\n",
       " 3: {1: 0, 2: 0, 4: 0},\n",
       " 4: {1: 0, 2: 0, 3: 0, 5: 0},\n",
       " 6: {1: 0, 2: 0, 5: 0},\n",
       " 5: {4: 0, 6: 0}}"
      ]
     },
     "execution_count": 7,
     "metadata": {},
     "output_type": "execute_result"
    }
   ],
   "source": [
    "find_kcore(2,ADT)"
   ]
  },
  {
   "cell_type": "markdown",
   "metadata": {},
   "source": [
    "![alt text](./preview/kcore2.png)"
   ]
  },
  {
   "cell_type": "code",
   "execution_count": 8,
   "metadata": {},
   "outputs": [
    {
     "data": {
      "text/plain": [
       "{1: {2: 0, 3: 0, 4: 0},\n",
       " 2: {1: 0, 3: 0, 4: 0},\n",
       " 3: {1: 0, 2: 0, 4: 0},\n",
       " 4: {1: 0, 2: 0, 3: 0}}"
      ]
     },
     "execution_count": 8,
     "metadata": {},
     "output_type": "execute_result"
    }
   ],
   "source": [
    "find_kcore(3,ADT)"
   ]
  },
  {
   "cell_type": "markdown",
   "metadata": {},
   "source": [
    "![alt text](./preview/kcore3.png)"
   ]
  },
  {
   "cell_type": "markdown",
   "metadata": {},
   "source": [
    "&nbsp;\n",
    "\n",
    "The tricky part of 3-core graph is vertex 6. In 2-core graph, vertex 6 has a degree of 3. However, one of its adjacent vertices, vertex 5, only has a degree of 2. Once we remove the vertex 5, the degree of vertex 6 drops to 2. Thus, we remove vertex 6 as well.\n",
    "\n",
    "&nbsp;"
   ]
  },
  {
   "cell_type": "markdown",
   "metadata": {},
   "source": [
    "![alt text](./preview/kcore.png)"
   ]
  },
  {
   "cell_type": "code",
   "execution_count": 9,
   "metadata": {},
   "outputs": [
    {
     "data": {
      "text/plain": [
       "{}"
      ]
     },
     "execution_count": 9,
     "metadata": {},
     "output_type": "execute_result"
    }
   ],
   "source": [
    "find_kcore(4,ADT)"
   ]
  },
  {
   "cell_type": "markdown",
   "metadata": {},
   "source": [
    "&nbsp;\n",
    "\n",
    "### David Matula and Leland Beck\n",
    "\n",
    "&nbsp;\n",
    "\n",
    "The algorithm above is my own implementation. As you know, I am not as smart as a computer scientist. The time complexity of my brute-force algorithm is at minimum exponential if not polynomial (je plaisante). \n",
    "\n",
    "There are a few algorithms to get degeneracy ordering in linear time. David W. Matula, and Leland L. Beck have mentioned such algorithm in their paper called \"Smallest-last ordering and clustering and graph coloring algorithms\". \n",
    "\n",
    "The paper originally cost 15$ but gradually became free due to the fucking COVID-19. You can check the link below or the pdf in the data subfolder.\n",
    "\n",
    "https://dl.acm.org/doi/pdf/10.1145/2402.322385\n",
    "\n",
    "https://github.com/je-suis-tm/graph-theory/blob/master/data/Smallest-Last%20Ordering%20and%20Clustering%20and%20Graph%20Coloring%20Algorithms.pdf\n",
    "    \n",
    "To get a glimpse of the algorithm, you can check the pseudocode on wikipedia as well.\n",
    "\n",
    "https://en.wikipedia.org/wiki/Degeneracy_(graph_theory)#Algorithms\n",
    "\n",
    "&nbsp;"
   ]
  },
  {
   "cell_type": "code",
   "execution_count": 10,
   "metadata": {},
   "outputs": [],
   "source": [
    "#the function sort_by_degree is to create a dictionary\n",
    "#where the key is the node and the value is the degree\n",
    "#in this function, we create a dictionary\n",
    "#where the key is the degree and the value is the nodes\n",
    "def get_degree_list(ADT):\n",
    "    \"\"\"create degree distribution\"\"\"\n",
    "    \n",
    "    D={}\n",
    "    \n",
    "    #if the current degree hasnt been checked\n",
    "    #we create a new key under the current degree\n",
    "    #otherwise we append the new node into the list\n",
    "    for i in ADT.vertex():\n",
    "        try:\n",
    "            D[ADT.degree(i)].append(i)\n",
    "\n",
    "        except KeyError:\n",
    "            D[ADT.degree(i)]=[i]\n",
    "    \n",
    "    #dictionary is sorted by key instead of value in ascending order\n",
    "    D=dict(sorted(D.items()))\n",
    "    \n",
    "    return D"
   ]
  },
  {
   "cell_type": "code",
   "execution_count": 11,
   "metadata": {},
   "outputs": [],
   "source": [
    "#the algorithm is supposed to use a bucket queue (in our case just list and dict)\n",
    "#to repeatedly remove the vertices with the smallest degree\n",
    "#and update its adjacent vertices until it wipes out the whole graph\n",
    "#the highest degree it removes becomes the degeneracy\n",
    "def matula_beck(ADT,ordering=False,degeneracy=False):\n",
    "    \"\"\"An algorithm proposed by David W. Matula, and Leland L. Beck to find k core of a graph ADT.\n",
    "    The implementation is based upon their original paper called\n",
    "    \"Smallest-last ordering and clustering and graph coloring algorithms\".\n",
    "    \"\"\"\n",
    "    \n",
    "    subset=copy.deepcopy(ADT)\n",
    "    \n",
    "    #k is the ultimate degeneracy\n",
    "    k=0\n",
    "    \n",
    "    #denote L as the checked list\n",
    "    L=[]\n",
    "    \n",
    "    #denote output as the storage of vertices in 1-core to k-core\n",
    "    output={}\n",
    "\n",
    "    #degree distribution\n",
    "    D=get_degree_list(subset)\n",
    "    \n",
    "    #initialize\n",
    "    for i in range(1,max(D.keys())):\n",
    "        output[i]=[]\n",
    "    \n",
    "    #we initialize the current degree i to 0\n",
    "    #because we want to keep track of 1-core to k-core\n",
    "    i=0\n",
    "\n",
    "    while D:\n",
    "                \n",
    "        #denote i as the minimum degree in the current graph\n",
    "        i=list(D.keys())[0]\n",
    "                        \n",
    "        #k denotes the degeneracy\n",
    "        k=max(k,i)\n",
    "        \n",
    "        #pick a random vertex with the minimum degree\n",
    "        v=D[i].pop(0)\n",
    "        \n",
    "        #checked and removed\n",
    "        L.append(v)\n",
    "        subset.remove(v)\n",
    "        output[k].append(v)\n",
    "        \n",
    "        #update the degree list\n",
    "        D=get_degree_list(subset)   \n",
    "    \n",
    "    #start from -2 to 0\n",
    "    for ind in sorted(output.keys(),reverse=True)[1:]:\n",
    "\n",
    "        #remove empty k-core\n",
    "        if not output[ind+1]:\n",
    "            del output[ind+1]\n",
    "\n",
    "        #add vertices from high order core to low order core\n",
    "        else:\n",
    "            output[ind]+=output[ind+1]\n",
    "    \n",
    "    #output depends on the requirement\n",
    "    if ordering:\n",
    "        return L\n",
    "    elif degeneracy:\n",
    "        return k\n",
    "    else:\n",
    "        return output"
   ]
  },
  {
   "cell_type": "code",
   "execution_count": 12,
   "metadata": {},
   "outputs": [
    {
     "data": {
      "text/plain": [
       "{1: [7, 5, 6, 1, 2, 3, 4], 2: [5, 6, 1, 2, 3, 4], 3: [1, 2, 3, 4]}"
      ]
     },
     "execution_count": 12,
     "metadata": {},
     "output_type": "execute_result"
    }
   ],
   "source": [
    "matula_beck(ADT)"
   ]
  },
  {
   "cell_type": "markdown",
   "metadata": {},
   "source": [
    "&nbsp;\n",
    "\n",
    "### Vladimir Batagelj and Matjaž Zaveršnik\n",
    "\n",
    "&nbsp;\n",
    "\n",
    "The package networkx uses a different methodology from Matula and Beck's algorithm. \n",
    "\n",
    "You can click the link below to be redirected to the documentation.\n",
    "\n",
    "https://networkx.github.io/documentation/stable/reference/algorithms/core.html\n",
    "    \n",
    "Networkx is based upon a paper by Vladimir Batagelj and Matjaž Zaveršnik. The paper is called \"An O(m) Algorithm for Cores Decomposition of Networks\". \n",
    "\n",
    "Thanks to University of Ljubljana in Slovenia, we are allowed to download the paper for free in the link below.\n",
    "\n",
    "https://arxiv.org/pdf/cs/0310049.pdf\n",
    "\n",
    "&nbsp;"
   ]
  },
  {
   "cell_type": "code",
   "execution_count": 13,
   "metadata": {},
   "outputs": [],
   "source": [
    "#the implementation is based upon the pseudo code in the paper\n",
    "#instead of the detailed algorithm section in pascal (cuz i cant read pascal)\n",
    "def batagelj_zaversnik(k,ADT):   \n",
    "    \"\"\"An algorithm proposed by Vladimir Batagelj and Matjaž Zaveršnik to find k core of a graph ADT.\n",
    "    The implementation is based upon their original paper called\n",
    "    \"An O(m) Algorithm for Cores Decomposition of Networks\".\n",
    "    \"\"\"   \n",
    "    \n",
    "    subset=copy.deepcopy(ADT)\n",
    "    \n",
    "    #denote D as a dictionary\n",
    "    #where the key is the vertex\n",
    "    #the value is its degree\n",
    "    D={}\n",
    "    for i in subset.vertex():\n",
    "        D[i]=subset.degree(i)\n",
    "    \n",
    "    #denote queue as a sorted list of vertices by descending degree\n",
    "    queue=sort_by_degree(subset)\n",
    "    \n",
    "    #according to the paper\n",
    "    #the time complexity of the following part is O(max(m,n))\n",
    "    while queue:\n",
    "        \n",
    "        #each iteration, we extract the vertex with the minimum degree from the queue\n",
    "        #we mark each vertex we examine in the graph structure\n",
    "        i=queue.pop()\n",
    "        subset.visit(i)\n",
    "        \n",
    "        #if the current degree is smaller than our target k\n",
    "        #we introduce penalty to its adjacent vertices\n",
    "        if D[i]<k:\n",
    "            for j in subset.edge(i):\n",
    "                D[j]-=1\n",
    "        \n",
    "        #update the queue with the latest degree\n",
    "        #exclude all the marked vertices\n",
    "        #the queue should always be in descending order\n",
    "        queue=[]\n",
    "        for key,_ in sorted(D.items(),reverse=True,key=lambda x:x[1]):\n",
    "            if subset.go(key)==0:\n",
    "                queue.append(key)\n",
    "    \n",
    "    #after the size of the queue shrinks to zero\n",
    "    #any vertex with degree not smaller than k will go into k core\n",
    "    return [i for i in D if D[i]>=k]"
   ]
  },
  {
   "cell_type": "code",
   "execution_count": 14,
   "metadata": {},
   "outputs": [
    {
     "data": {
      "text/plain": [
       "[1, 2, 3, 4, 6, 7, 5]"
      ]
     },
     "execution_count": 14,
     "metadata": {},
     "output_type": "execute_result"
    }
   ],
   "source": [
    "batagelj_zaversnik(1,ADT)"
   ]
  },
  {
   "cell_type": "code",
   "execution_count": 15,
   "metadata": {},
   "outputs": [
    {
     "data": {
      "text/plain": [
       "[1, 2, 3, 4, 6, 5]"
      ]
     },
     "execution_count": 15,
     "metadata": {},
     "output_type": "execute_result"
    }
   ],
   "source": [
    "batagelj_zaversnik(2,ADT)"
   ]
  },
  {
   "cell_type": "code",
   "execution_count": 16,
   "metadata": {
    "scrolled": true
   },
   "outputs": [
    {
     "data": {
      "text/plain": [
       "[1, 2, 3, 4]"
      ]
     },
     "execution_count": 16,
     "metadata": {},
     "output_type": "execute_result"
    }
   ],
   "source": [
    "batagelj_zaversnik(3,ADT)"
   ]
  },
  {
   "cell_type": "code",
   "execution_count": 17,
   "metadata": {
    "scrolled": true
   },
   "outputs": [
    {
     "data": {
      "text/plain": [
       "[]"
      ]
     },
     "execution_count": 17,
     "metadata": {},
     "output_type": "execute_result"
    }
   ],
   "source": [
    "batagelj_zaversnik(4,ADT)"
   ]
  },
  {
   "cell_type": "code",
   "execution_count": null,
   "metadata": {},
   "outputs": [],
   "source": []
  }
 ],
 "metadata": {
  "kernelspec": {
   "display_name": "Python 3",
   "language": "python",
   "name": "python3"
  },
  "language_info": {
   "codemirror_mode": {
    "name": "ipython",
    "version": 3
   },
   "file_extension": ".py",
   "mimetype": "text/x-python",
   "name": "python",
   "nbconvert_exporter": "python",
   "pygments_lexer": "ipython3",
   "version": "3.6.5"
  }
 },
 "nbformat": 4,
 "nbformat_minor": 2
}
