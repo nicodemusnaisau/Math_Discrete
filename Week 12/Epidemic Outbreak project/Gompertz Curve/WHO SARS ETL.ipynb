{
 "cells": [
  {
   "cell_type": "code",
   "execution_count": 1,
   "metadata": {},
   "outputs": [],
   "source": [
    "import os\n",
    "os.chdir('K:/who/html')"
   ]
  },
  {
   "cell_type": "code",
   "execution_count": 2,
   "metadata": {},
   "outputs": [],
   "source": [
    "import pandas as pd"
   ]
  },
  {
   "cell_type": "code",
   "execution_count": 3,
   "metadata": {},
   "outputs": [],
   "source": [
    "import datetime as dt\n",
    "import numpy as np\n",
    "import re"
   ]
  },
  {
   "cell_type": "code",
   "execution_count": 4,
   "metadata": {
    "scrolled": true
   },
   "outputs": [],
   "source": [
    "#read table from html\n",
    "for i in os.listdir():\n",
    "\n",
    "    f=open(i,'r',encoding='utf_8_sig')\n",
    "\n",
    "    raw=f.read()\n",
    "\n",
    "    f.close()\n",
    "    \n",
    "    try:\n",
    "        df=pd.read_html(raw)\n",
    "        name=pd.to_datetime(i.replace('.html','')).strftime('%Y-%m-%d')\n",
    "        df[0].to_csv(f'K:/who/data/{name}.csv',index=False)\n",
    "    except ValueError:\n",
    "        \n",
    "        #for some reason, august 2003 report comes from pdf\n",
    "        #we have to take extra time to process it\n",
    "        text=\"\"\"Areas Female Male Total Median_age_(range) Number_of_cases_currently_hospitalised Number_of_cases_recovered Number_of_deaths CFR_(%) Number_of_imported_cases_(%) Number_of_HCW_affected_(%) Date_onset_first_probable_case Date_onset_last_probable_case\n",
    "        Australia 4 2 6 15(1-45) 0 6 0 0 6(100) 0(0) 24-Mar-03 1-Apr-03\n",
    "        Brazil 1 1 NA 4 0 1 0 0 1(100) 0(0) 3-Apr-03 3-Apr-03\n",
    "        Canada 151 100 251 49(1-98) 10 200 41 17 5(2) 108(43) 23-Feb-03 12-Jun-03\n",
    "        China Pending Pending 5327 Pending 29 4949 349 7 NA 1002(19) 16-Nov-02 25-Jun-03\n",
    "        China,_Hong_Kong_Special_Administrative_Region 977 778 1755 40(0-100) 7 1448 300 17 NA 386(22) 15-Feb-03 31-May-03\n",
    "        China,_Macao_Special_Administrative_Region 0 1 1 28 0 1 0 0 1(100) 0(0) 5-May-03 5-May-03\n",
    "        China,_Taiwan 349 319 665 46(2-79) 10 475 180 27 50(8) 86(13) 25-Feb-03 15-Jun-03\n",
    "        Colombia 1 0 1 28 0 1 0 0 1(100) 0(0) 2-Apr-03 2-Apr-03\n",
    "        Finland 0 1 1 24 0 1 0 0 1(100) 0(0) 30-Apr-03 30-Apr-03\n",
    "        France 1 6 7 49(26-61) 0 6 1 14 7(100) 2(29) 21-Mar-03 3-May-03\n",
    "        Germany 4 5 9 44(4-73) 0 9 0 0 9(100) 1(11) 9-Mar-03 6-May-03\n",
    "        India 0 3 3 25(25-30) 0 3 0 0 3(100) 0(0) 25-Apr-03 6-May-03\n",
    "        Indonesia 0 2 2 56(47-65) 0 2 0 0 2(100) 0(0) 6-Apr-03 17-Apr-03\n",
    "        Italy 1 3 4 30.5(25-54) 0 4 0 0 4(100) 0(0) 12-Mar-03 20-Apr-03\n",
    "        Kuwait 1 0 1 50 0 1 0 0 1(100) 0(0) 9-Apr-03 9-Apr-03\n",
    "        Malaysia 1 4 5 30(26-84) 0 3 2 40 5(100) 0(0) 14-Mar-03 22-Apr-03\n",
    "        Mongolia 8 1 9 32(17-63) 0 9 0 0 8(89) 1(11) 31-Mar-03 6-May-03\n",
    "        New_Zealand 1 0 1 67 0 1 0 0 1(100) NA 20-Apr-03 20-Apr-03\n",
    "        Philippines 8 6 14 41(29-73) 0 12 2 14 7(50) 4(29) 25-Feb-03 5-May-03\n",
    "        Republic_of_Ireland 0 1 1 56 0 1 0 0 1(100) 0(0) 27-Feb-03 27-Feb-03\n",
    "        Republic_of_Korea 0 3 3 40(20-80) 0 3 0 0 3(100) 0(0) 25-Apr-03 10-May-03\n",
    "        Romania 0 1 1 52 0 1 0 0 1(100) 0(0) 19-Mar-03 19-Mar-03\n",
    "        Russian_Federation 0 1 1 25 1 0 0 NA NA 0(0) 5-May-03 5-May-03\n",
    "        Singapore 161 77 238 35(1-90) 0 205 33 14 8(3) 97(41) 25-Feb-03 5-May-03\n",
    "        South_Africa 0 1 1 62 0 0 1 100 1(100) 0(0) 3-Apr-03 3-Apr-03\n",
    "        Spain 0 1 1 33 0 1 0 0 1(100) 0(0) 26-Mar-03 26-Mar-03\n",
    "        Sweden 1 2 3 33 0 3 0 0 3(100) 0(0) NA NA\n",
    "        Switzerland 0 1 1 35 0 1 0 0 1(100) 0(0) 9-Mar-03 9-Mar-03\n",
    "        Thailand 5 4 9 42(2-79) 0 7 2 22 9(100) 1(11) 11-Mar-03 27-May-03\n",
    "        United_Kingdom 2 2 4 59(28-74) 0 4 0 0 4(100) 0(0) 1-Mar-03 1-Apr-03\n",
    "        United_States 16 17 33 36(0-83) 7 26 0 0 31(94) 1(3) 9-Jan-03 13-Jul-03\n",
    "        Viet_Nam 39 24 63 43(20-76) 0 58 5 8 1(2) 36(57) 23-Feb-03 14-Apr-03\n",
    "        Total NA NA 8422 NA 64 7442 916 11 NA 1725(20) NA NA\"\"\"\n",
    "\n",
    "        text_process=[j for i in text.split('\\n') for j in i.split(' ') if j]\n",
    "\n",
    "        output=pd.DataFrame()\n",
    "        for i in range(int(len(text_process)/13)):\n",
    "            output[i]=(text_process[i*13:i*13+13])\n",
    "\n",
    "        output=output.T\n",
    "\n",
    "        output.columns=output.loc[0].str.replace('_',' ')\n",
    "\n",
    "        output.drop(0,inplace=True)\n",
    "\n",
    "        output=output.replace('NA','')\n",
    "\n",
    "        output['Areas']=output['Areas'].str.replace('_',' ')\n",
    "\n",
    "        output.to_csv('K:/who/data/2003-08-15.csv',index=False)"
   ]
  },
  {
   "cell_type": "code",
   "execution_count": 5,
   "metadata": {},
   "outputs": [],
   "source": [
    "os.chdir('K:/who/data')"
   ]
  },
  {
   "cell_type": "code",
   "execution_count": 6,
   "metadata": {
    "scrolled": true
   },
   "outputs": [],
   "source": [
    "for i in os.listdir():\n",
    "    df=pd.read_csv(i)\n",
    "    \n",
    "    #clean up useless columns\n",
    "    for j in df.columns:\n",
    "        if df[j].isnull().all():\n",
    "            del df[j]\n",
    "            \n",
    "    #clean up useless rows\n",
    "    if 'Unnamed: 0' in df.columns.tolist() or '0' in df.columns.tolist():\n",
    "        df.columns=df.loc[0]\n",
    "        df.drop(0,inplace=True)    \n",
    "    \n",
    "    df.to_csv(i,index=False)"
   ]
  },
  {
   "cell_type": "code",
   "execution_count": 7,
   "metadata": {
    "scrolled": true
   },
   "outputs": [],
   "source": [
    "#clean up some of the headers\n",
    "for i in os.listdir()[21:33]:\n",
    "    df=pd.read_csv(i)\n",
    "    \n",
    "    if len(df.columns.tolist())==6:\n",
    "        df.columns=['Country', 'Cumulative number of cases',\n",
    "           'Number of new cases since last WHO update', 'Number of deaths','Number recovered',\n",
    "           'Local chains of transmission']\n",
    "        df.drop(0,inplace=True)\n",
    "    if len(df.columns.tolist())==7:\n",
    "        df.columns=['Country', 'Cumulative number of cases',\n",
    "           'Number of new cases since last WHO update', 'Number of deaths','Number recovered',\n",
    "           'Local chains of transmission','Date of last report']\n",
    "        df.drop(0,inplace=True)\n",
    "    df.to_csv(i,index=False)"
   ]
  },
  {
   "cell_type": "code",
   "execution_count": 8,
   "metadata": {},
   "outputs": [],
   "source": [
    "#standardize column name\n",
    "#cant really use regex as i struggle to find pattern\n",
    "#who should use better table format and fewer footnotes\n",
    "D={'Cumulative number of case(s)': 'Cumulative number of cases',\n",
    " 'Cumulative number of case(s) §': 'Cumulative number of cases',\n",
    " 'Cumulative number of case(s)2': 'Cumulative number of cases',\n",
    " 'Cumulative number of case(s)^1': 'Cumulative number of cases',\n",
    " 'Cumulative number of case(s)^2': 'Cumulative number of cases',\n",
    " 'Cumulative number of cases^2': 'Cumulative number of cases',\n",
    " 'Total': 'Cumulative number of cases',\n",
    " 'Total number of case(s)': 'Cumulative number of cases',\n",
    "  'Local chain(s) of transmission 2': 'Local transmission',\n",
    " 'Local chain(s) of transmission2': 'Local transmission',\n",
    " 'Local chain(s) of transmission4': 'Local transmission',\n",
    " 'Local chain(s) of transmission^3': 'Local transmission',\n",
    " 'Local chain(s) of transmission^4': 'Local transmission',\n",
    " 'Local chains of transmission': 'Local transmission',\n",
    " 'Local transmission*': 'Local transmission',\n",
    " 'Date last probable case reported': 'Date of last report',\n",
    " 'Date of last report': 'Date of last report',\n",
    " 'Date onset last probable case': 'Date of last report',\n",
    "  'Areas':'Country',\n",
    "  'CFR (%)': 'Case fatality ratio (%)',\n",
    "  'Final Status/ Number of deaths': 'Number of deaths',\n",
    " 'Final status/ Number of deaths': 'Number of deaths',\n",
    " 'Number of deaths^a': 'Number of deaths',\n",
    "  'Number of cases recovered': 'Number recovered',\n",
    " 'Final Status/ Number recovered^2': 'Number recovered',\n",
    " 'Final status/ Number recovered3': 'Number recovered',\n",
    " 'Final status/ Number recovered^2': 'Number recovered',\n",
    " 'Final status/ Number recovered^3': 'Number recovered',\n",
    " 'Number recovered3': 'Number recovered',\n",
    " 'Number recovered^3': 'Number recovered',\n",
    " 'Number recovered^4': 'Number recovered',\n",
    "  'Number of new cases since last WHO update 2, 3': 'Number of new cases since last WHO update',\n",
    " 'Number of new cases since last WHO update2': 'Number of new cases since last WHO update',\n",
    " 'Number of new cases since last WHO update2,3': 'Number of new cases since last WHO update',\n",
    " 'Number of new cases since last WHO update2,^3': 'Number of new cases since last WHO update',\n",
    " 'Number of new cases since last WHO update2.3': 'Number of new cases since last WHO update',\n",
    " 'Number of new cases since last WHO update^2': 'Number of new cases since last WHO update'}"
   ]
  },
  {
   "cell_type": "code",
   "execution_count": 9,
   "metadata": {
    "scrolled": true
   },
   "outputs": [],
   "source": [
    "cols=[]\n",
    "for i in os.listdir():\n",
    "    df=pd.read_csv(i)\n",
    "    df.columns=pd.Series(df.columns).replace(D)\n",
    "    cols+=(df.columns.tolist())\n",
    "    df.to_csv(i,index=False)"
   ]
  },
  {
   "cell_type": "code",
   "execution_count": 10,
   "metadata": {},
   "outputs": [],
   "source": [
    "grand=pd.DataFrame(columns=list(set(cols))+['report date'])\n",
    "for i in os.listdir():\n",
    "\n",
    "    df=pd.read_csv(i)\n",
    "    for j in set(cols):\n",
    "        if j not in grand.columns:\n",
    "            df[j]=''\n",
    "            \n",
    "    df['report date']=i.replace('.csv','')\n",
    "    \n",
    "    grand=grand.append(df,sort=False,ignore_index=True)"
   ]
  },
  {
   "cell_type": "code",
   "execution_count": 11,
   "metadata": {},
   "outputs": [],
   "source": [
    "grand['Number of new cases since last WHO update']=grand['Number of new cases since last WHO update'].replace('not applicable',np.nan).apply(float)"
   ]
  },
  {
   "cell_type": "code",
   "execution_count": 12,
   "metadata": {},
   "outputs": [],
   "source": [
    "#clean footnote from country\n",
    "country_clean=[\n",
    "'Australia',\n",
    " 'Belgium',\n",
    " 'Brazil',\n",
    " 'Bulgaria',\n",
    " 'Canada',\n",
    " 'Guangdong',\n",
    " 'Hong Kong',\n",
    " 'Macao',\n",
    " 'Colombia',\n",
    " 'Finland',\n",
    " 'France',\n",
    " 'Germany',\n",
    " 'India',\n",
    " 'Indonesia',\n",
    " 'Italy',\n",
    " 'Japan',\n",
    " 'Kuwait',\n",
    " 'Malaysia',\n",
    " 'Mongolia',\n",
    " 'New Zealand',\n",
    " 'Philippines',\n",
    " 'Poland',\n",
    " 'Republic of Ireland',\n",
    " 'Republic of Korea',\n",
    " 'Romania',\n",
    " 'Russian Federation',\n",
    " 'Singapore',\n",
    " 'Slovenia',\n",
    " 'South Africa',\n",
    " 'Spain',\n",
    " 'Sweden',\n",
    " 'Switzerland',\n",
    " 'Taiwan',\n",
    " 'Thailand',\n",
    " 'Total',\n",
    " 'United Kingdom',\n",
    " 'United States',\n",
    " 'Viet Nam']\n",
    "\n",
    "country_raw=grand['Country'].tolist()\n",
    "\n",
    "for i in range(len(country_raw)):\n",
    "    for j in country_clean:\n",
    "        if j in str(country_raw[i]):\n",
    "            country_raw[i]=j\n",
    "            \n",
    "    if 'China' in str(country_raw[i]):\n",
    "        country_raw[i]='China'\n",
    "\n",
    "grand['Country']=country_raw\n",
    "\n",
    "ind=grand.loc[grand['Country'].isna()].index\n",
    "\n",
    "grand.drop(ind,inplace=True)"
   ]
  },
  {
   "cell_type": "code",
   "execution_count": 13,
   "metadata": {},
   "outputs": [],
   "source": [
    "#clean footnote\n",
    "grand['Date of last report']=pd.to_datetime(grand['Date of last report'].replace('13-Jul-03^e',''))"
   ]
  },
  {
   "cell_type": "code",
   "execution_count": 14,
   "metadata": {},
   "outputs": [],
   "source": [
    "#clean footnote\n",
    "grand['Number of deaths']=grand['Number of deaths'].replace(value='',regex='\\*').apply(float)"
   ]
  },
  {
   "cell_type": "code",
   "execution_count": 15,
   "metadata": {},
   "outputs": [],
   "source": [
    "#divide column into two and clean up\n",
    "grand['Number of imported cases']=grand['Number of imported cases (%)'].apply(lambda x: re.findall('\\d*',str(x).split('(')[0])[0])\n",
    "\n",
    "grand['Number of imported cases']=grand['Number of imported cases'].replace('',np.nan).astype(float)\n",
    "\n",
    "grand['percentage of imported cases']=grand['Number of imported cases (%)'].apply(lambda x: int(re.findall('(?<=\\()\\d+',x)[0]) if '(' in str(x) else np.nan)\n",
    "\n",
    "del grand['Number of imported cases (%)']"
   ]
  },
  {
   "cell_type": "code",
   "execution_count": 16,
   "metadata": {
    "scrolled": true
   },
   "outputs": [],
   "source": [
    "#divide column into two and clean up\n",
    "grand['Number of HCW affected']=grand['Number of HCW affected (%)'].apply(lambda x: re.findall('\\d*',str(x).split('(')[0])[0])\n",
    "\n",
    "grand['Number of HCW affected']=grand['Number of HCW affected'].replace('',np.nan).apply(float)\n",
    "\n",
    "grand['percentage of HCW affected']=grand['Number of HCW affected (%)'].apply(lambda x: int(re.findall('(?<=\\()\\d+',x)[0]) if '(' in str(x) else np.nan)\n",
    "\n",
    "del grand['Number of HCW affected (%)']"
   ]
  },
  {
   "cell_type": "code",
   "execution_count": 17,
   "metadata": {},
   "outputs": [],
   "source": [
    "#few columns are squeaky clean\n",
    "grand['Date onset first probable case']=pd.to_datetime(grand['Date onset first probable case'])\n",
    "grand['Date for which cumulative number of cases is current']=pd.to_datetime(grand['Date for which cumulative number of cases is current'])\n",
    "grand['report date']=pd.to_datetime(grand['report date'])"
   ]
  },
  {
   "cell_type": "code",
   "execution_count": 18,
   "metadata": {},
   "outputs": [],
   "source": [
    "#remove useless info\n",
    "grand['Male']=grand['Male'].replace('Pending',np.nan).astype(float)\n",
    "grand['Female']=grand['Female'].replace('Pending',np.nan).astype(float)"
   ]
  },
  {
   "cell_type": "code",
   "execution_count": 19,
   "metadata": {},
   "outputs": [],
   "source": [
    "#clean footnote\n",
    "grand['Cumulative number of cases']=grand['Cumulative number of cases'].apply(lambda x:re.findall('\\d*',str(x))[0])\n",
    "\n",
    "grand['Cumulative number of cases']=grand['Cumulative number of cases'].replace('',np.nan).astype(float)"
   ]
  },
  {
   "cell_type": "code",
   "execution_count": 20,
   "metadata": {},
   "outputs": [],
   "source": [
    "#remove useless info\n",
    "grand['Number recovered']=grand['Number recovered'].replace('not available',np.nan).astype(float)"
   ]
  },
  {
   "cell_type": "code",
   "execution_count": 21,
   "metadata": {},
   "outputs": [],
   "source": [
    "#divide column into tree and clean up\n",
    "grand['median age']=grand['Median age (range)'].apply(lambda x: re.findall('\\d*',str(x).split('(')[0])[0])\n",
    "\n",
    "grand['median age']=grand['median age'].replace('',np.nan).apply(float)\n",
    "\n",
    "grand['minimum age']=grand['Median age (range)'].apply(lambda x: int(re.findall('(?<=\\()\\d+',x)[0]) if '(' in str(x) else np.nan)\n",
    "\n",
    "grand['maximum age']=grand['Median age (range)'].apply(lambda x: int(''.join(re.findall('\\d*',x.split('-')[1]))) if '-' in str(x) else np.nan)\n",
    "\n",
    "del grand['Median age (range)']"
   ]
  },
  {
   "cell_type": "code",
   "execution_count": 22,
   "metadata": {},
   "outputs": [],
   "source": [
    "grand['Local transmission']=grand['Local transmission'].replace({'Being determined':np.nan,'To be determined':np.nan,'None*':'No','None':'No'})"
   ]
  },
  {
   "cell_type": "code",
   "execution_count": 23,
   "metadata": {},
   "outputs": [],
   "source": [
    "grand.to_csv('K:/who/grand.csv',index=False)"
   ]
  },
  {
   "cell_type": "code",
   "execution_count": null,
   "metadata": {},
   "outputs": [],
   "source": []
  }
 ],
 "metadata": {
  "kernelspec": {
   "display_name": "Python 3",
   "language": "python",
   "name": "python3"
  },
  "language_info": {
   "codemirror_mode": {
    "name": "ipython",
    "version": 3
   },
   "file_extension": ".py",
   "mimetype": "text/x-python",
   "name": "python",
   "nbconvert_exporter": "python",
   "pygments_lexer": "ipython3",
   "version": "3.6.5"
  }
 },
 "nbformat": 4,
 "nbformat_minor": 2
}
