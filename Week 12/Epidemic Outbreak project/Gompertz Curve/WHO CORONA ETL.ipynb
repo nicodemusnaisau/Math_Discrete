{
 "cells": [
  {
   "cell_type": "code",
   "execution_count": 1,
   "metadata": {},
   "outputs": [],
   "source": [
    "import pandas as pd\n",
    "import os\n",
    "import numpy as np\n",
    "import re\n",
    "os.chdir('K:\\who\\corona\\data')"
   ]
  },
  {
   "cell_type": "code",
   "execution_count": 2,
   "metadata": {},
   "outputs": [],
   "source": [
    "#to use tabula, you need to have java installed\n",
    "#tabula enables you to extract table from a pdf file\n",
    "#but you have to specify where the table is\n",
    "#and who doesnt have a consistent format so we will have to try\n",
    "import tabula\n",
    "for i in os.listdir():\n",
    "    if 'pdf' in i:\n",
    "        try:\n",
    "            df=tabula.read_pdf(i,pages='3', \\\n",
    "                       java_options=\"-Dfile.encoding=UTF8\")\n",
    "            df.to_csv(i[:8]+'.csv',index=False)\n",
    "        except:\n",
    "            try:\n",
    "                df=tabula.read_pdf(i,pages='2', \\\n",
    "                       java_options=\"-Dfile.encoding=UTF8\")\n",
    "                df.to_csv(i[:8]+'.csv',index=False)\n",
    "            except:\n",
    "                df=tabula.read_pdf(i,pages='4', \\\n",
    "                       java_options=\"-Dfile.encoding=UTF8\")\n",
    "                df.to_csv(i[:8]+'.csv',index=False)\n"
   ]
  },
  {
   "cell_type": "code",
   "execution_count": 3,
   "metadata": {
    "scrolled": true
   },
   "outputs": [],
   "source": [
    "#this isnt sufficient to clean up the data\n",
    "#corona data is so messed up\n",
    "#you have to manually clean up\n",
    "grande=pd.DataFrame(columns=['Country/Territory/Area', 'Confirmed Cases','report date'])\n",
    "for i in os.listdir():\n",
    "    if '.csv' in i:\n",
    "        df=pd.read_csv(i,encoding='utf_8_sig')\n",
    "        if df.columns.tolist()==['WHO Regional Office', 'Country/Territory/Area', 'Confirmed Cases']:\n",
    "            del df['WHO Regional Office']\n",
    "            df.dropna(inplace=True)\n",
    "            df['report date']=f'{i[:4]}-{i[4:6]}-{i[6:8]}'\n",
    "            grande=grande.append(df,ignore_index=True)\n",
    "\n",
    "grande['Country/Territory/Area']=grande['Country/Territory/Area'].str.replace('*','')\n",
    "\n",
    "grande['Confirmed Cases']=grande['Confirmed Cases'].apply(lambda x:str(x).replace(',','')).astype(float)\n",
    "\n",
    "grande['report date']=pd.to_datetime(grande['report date'])\n",
    "\n",
    "grande.to_csv('grande.csv',index=False)"
   ]
  },
  {
   "cell_type": "code",
   "execution_count": null,
   "metadata": {},
   "outputs": [],
   "source": []
  }
 ],
 "metadata": {
  "kernelspec": {
   "display_name": "Python 3",
   "language": "python",
   "name": "python3"
  },
  "language_info": {
   "codemirror_mode": {
    "name": "ipython",
    "version": 3
   },
   "file_extension": ".py",
   "mimetype": "text/x-python",
   "name": "python",
   "nbconvert_exporter": "python",
   "pygments_lexer": "ipython3",
   "version": "3.6.5"
  }
 },
 "nbformat": 4,
 "nbformat_minor": 2
}
