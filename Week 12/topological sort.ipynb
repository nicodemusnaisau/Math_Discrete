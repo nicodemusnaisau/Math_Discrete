{
 "cells": [
  {
   "cell_type": "markdown",
   "metadata": {},
   "source": [
    "### Topological Sort\n",
    "&nbsp;\n",
    "\n",
    "Topological sort is basically to create a linear ordering of the topological structure of a graph structure. The linear ordering is able to explain the in-degree by ascending order. For instance, you want to install keras. The dependencies of keras include scipy, numpy, tensorflow, and etc. And tensorflow requires numpy as well. So which one should we install first? With topological sort, we will be able to answer that question. DFS and Kahn's algorithm are common tools for topological sort. \n",
    "\n",
    "The topological sort order depends on the starting point. The topological sort order is unique if and only if a Hamiltonian path exists.\n",
    "\n",
    "&nbsp;"
   ]
  },
  {
   "cell_type": "code",
   "execution_count": 1,
   "metadata": {},
   "outputs": [],
   "source": [
    "import os\n",
    "os.chdir('K:/ecole/github')\n",
    "\n",
    "#graph adt\n",
    "#check the below link for more details\n",
    "# https://github.com/je-suis-tm/graph-theory/blob/master/graph.py\n",
    "import graph"
   ]
  },
  {
   "cell_type": "code",
   "execution_count": 2,
   "metadata": {},
   "outputs": [],
   "source": [
    "#dfs is demonstrated on a DCG\n",
    "#we make a minor change this time\n",
    "#we can only use topological sort on directed acyclical graph\n",
    "#we have to remove the part where vertex 1 and 3 are mutually connected\n",
    "#redirect the part where vertex 4 points to vertex 6\n",
    "directions=[[1,3],\n",
    "[1,4],\n",
    "[2,3],\n",
    "[3,5],\n",
    "[4,2],\n",
    "[5,6],\n",
    "[4,6]]\n",
    "\n",
    "DAG=graph.graph()\n",
    "for i in directions:\n",
    "    DAG.append(i[0],i[1],1)"
   ]
  },
  {
   "cell_type": "markdown",
   "metadata": {},
   "source": [
    "![alt text](./preview/DAG.jpg)"
   ]
  },
  {
   "cell_type": "markdown",
   "metadata": {},
   "source": [
    "### DFS\n",
    "&nbsp;\n",
    "\n",
    "DFS is picked as the first algorithm for topological sort for its simplicity.\n",
    "\n",
    "Details of DFS can be found in the website below\n",
    "\n",
    "https://github.com/je-suis-tm/graph-theory/blob/master/BFS%20DFS%20on%20DCG.ipynb.ipynb\n",
    "\n",
    "&nbsp;"
   ]
  },
  {
   "cell_type": "code",
   "execution_count": 3,
   "metadata": {},
   "outputs": [],
   "source": [
    "#the function is almost the same as recursive dfs\n",
    "#only add yield to obtain the dfs path\n",
    "def dfs_topo_sort(ADT,current):\n",
    "    \"\"\"Topological sort powered by recursive DFS\"\"\"\n",
    "    \n",
    "    #keep track of the visited vertices\n",
    "    ADT.visit(current)\n",
    "    yield current\n",
    "\n",
    "    #the loop is the backtracking part when it reaches cul-de-sac\n",
    "    for newpos in ADT.edge(current):\n",
    "        \n",
    "        #if the vertex hasnt been visited\n",
    "        #we call dfs recursively\n",
    "        if ADT.go(newpos)==0:\n",
    "            yield from dfs_topo_sort(ADT,newpos)"
   ]
  },
  {
   "cell_type": "code",
   "execution_count": 4,
   "metadata": {},
   "outputs": [
    {
     "name": "stdout",
     "output_type": "stream",
     "text": [
      "pivot:1\n",
      "linear ordering:[1, 3, 5, 6, 4, 2]\n",
      "\n",
      "pivot:3\n",
      "linear ordering:[3, 5, 6]\n",
      "\n",
      "pivot:4\n",
      "linear ordering:[4, 2, 3, 5, 6]\n",
      "\n",
      "pivot:5\n",
      "linear ordering:[5, 6]\n",
      "\n",
      "pivot:2\n",
      "linear ordering:[2, 3, 5, 6]\n",
      "\n",
      "pivot:6\n",
      "linear ordering:[6]\n",
      "\n"
     ]
    }
   ],
   "source": [
    "for i in DAG.vertex():\n",
    "    linear_ordering=list(dfs_topo_sort(DAG,i))\n",
    "    DAG.clear(whole=True)\n",
    "    print(f'pivot:{i}\\nlinear ordering:{linear_ordering}\\n')"
   ]
  },
  {
   "cell_type": "markdown",
   "metadata": {},
   "source": [
    "![alt text](./preview/topo%20sort%20dfs.jpg)"
   ]
  },
  {
   "cell_type": "markdown",
   "metadata": {
    "collapsed": true
   },
   "source": [
    "### Kahn's algorithm\n",
    "\n",
    "&nbsp;\n",
    "\n",
    "Kahn's algorithm is another algorithm to do topological sort. First, the algorithm creates a queue of vertices with zero in-degree. At each iteration, the algorithm adds vertex with zero in-degree into the result and remove all edges starting from the current vertex. Later, the algorithm adds its child vertices with zero in-degree into the queue. It repeats the previous two steps until no vertex with zero in-degree exists in the queue.\n",
    "\n",
    "Check GeeksForGeeks for more details\n",
    "\n",
    "https://www.geeksforgeeks.org/topological-sorting-indegree-based-solution/\n",
    "\n",
    "&nbsp;"
   ]
  },
  {
   "cell_type": "code",
   "execution_count": 5,
   "metadata": {},
   "outputs": [],
   "source": [
    "#if we have a DCG\n",
    "#we will only obtain empty or partial set\n",
    "def kahn(ADT):\n",
    "    \"\"\"Topological sort powered by Kahn's Algorithm\"\"\"\n",
    "    \n",
    "    #find all edges\n",
    "    edges=[]\n",
    "    for i in ADT.vertex():\n",
    "        for j in ADT.edge(i):\n",
    "            edges.append((i,j))\n",
    "    \n",
    "    #find vertices with zero in-degree\n",
    "    start=[i[0] for i in edges]\n",
    "    end=[i[1] for i in edges]\n",
    "    queue=set(start).difference(set(end))\n",
    "    \n",
    "    #in-degree for every vertex\n",
    "    in_degree={}\n",
    "    for i in set(end):\n",
    "        in_degree[i]=end.count(i)\n",
    "\n",
    "    result=[]\n",
    "\n",
    "    while queue:\n",
    "        \n",
    "        #pop a random vertex with zero in-degree\n",
    "        current=queue.pop()\n",
    "        result.append(current)\n",
    "        \n",
    "        #check its neighbors\n",
    "        for i in ADT.edge(current):\n",
    "            \n",
    "            #update their in-degree\n",
    "            in_degree[i]-=1\n",
    "            \n",
    "            #add vertices with zero in-degree into the queue\n",
    "            if in_degree[i]==0:\n",
    "                queue.add(i)\n",
    "    \n",
    "    return result"
   ]
  },
  {
   "cell_type": "code",
   "execution_count": 6,
   "metadata": {},
   "outputs": [
    {
     "data": {
      "text/plain": [
       "[1, 4, 2, 3, 5, 6]"
      ]
     },
     "execution_count": 6,
     "metadata": {},
     "output_type": "execute_result"
    }
   ],
   "source": [
    "kahn(DAG)"
   ]
  },
  {
   "cell_type": "markdown",
   "metadata": {},
   "source": [
    "![alt text](./preview/topo%20sort%20kahn.jpg)"
   ]
  },
  {
   "cell_type": "code",
   "execution_count": null,
   "metadata": {},
   "outputs": [],
   "source": []
  }
 ],
 "metadata": {
  "kernelspec": {
   "display_name": "Python 3",
   "language": "python",
   "name": "python3"
  },
  "language_info": {
   "codemirror_mode": {
    "name": "ipython",
    "version": 3
   },
   "file_extension": ".py",
   "mimetype": "text/x-python",
   "name": "python",
   "nbconvert_exporter": "python",
   "pygments_lexer": "ipython3",
   "version": "3.6.5"
  }
 },
 "nbformat": 4,
 "nbformat_minor": 2
}
