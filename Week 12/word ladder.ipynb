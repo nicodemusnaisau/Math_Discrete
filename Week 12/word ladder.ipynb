{
 "cells": [
  {
   "cell_type": "markdown",
   "metadata": {
    "collapsed": true
   },
   "source": [
    "### Word Ladder\n",
    "\n",
    "&nbsp;\n",
    "\n",
    "Word ladder is an interesting game. You are given one start word and one end word. Each time you can only change one letter of the word to form a new word. The new word must exist in the dictionary. The idea is to use the least steps to convert start word into end word.\n",
    "\n",
    "More details of word ladder can be found in the following link\n",
    "\n",
    "https://en.wikipedia.org/wiki/Word_ladder\n",
    "\n",
    "&nbsp;"
   ]
  },
  {
   "cell_type": "code",
   "execution_count": 1,
   "metadata": {},
   "outputs": [],
   "source": [
    "import os\n",
    "os.chdir('K:/ecole/github')\n",
    "\n",
    "#graph adt\n",
    "#check the below link for more details\n",
    "# https://github.com/je-suis-tm/graph-theory/blob/master/graph.py\n",
    "import graph"
   ]
  },
  {
   "cell_type": "code",
   "execution_count": 2,
   "metadata": {},
   "outputs": [],
   "source": [
    "#the tricky part of a practical problem is always connecting vertices\n",
    "#we need to do a traversal on every single word in txt file\n",
    "#for each word, we remove a letter and replace it by '_'\n",
    "#we build up a dictionary and let words fill in the dictionary\n",
    "#for instance, word 'pale' can be converted to 'p_le'\n",
    "#word 'pole' can be converted to 'p_le' as well\n",
    "#therefore, they should be under the same key of the dictionary\n",
    "def check_around(words):\n",
    "    \n",
    "    D={} \n",
    "    for i in words: \n",
    "        for j in range(4):\n",
    "            \n",
    "            #replace a letter with _\n",
    "            string=i[:j]+'_'+i[j+1:]\n",
    "            \n",
    "            #find the target words\n",
    "            try: \n",
    "                D[string].append(i) \n",
    "            except KeyError: \n",
    "                D[string]=[i]\n",
    "\n",
    "    #every word under the same key should connect with each other\n",
    "    #thats how we build up edges in a graph adt\n",
    "    ADT=graph.graph() \n",
    "    for k in D: \n",
    "        for l in D[k]: \n",
    "            for m in D[k]: \n",
    "                if l!=m: \n",
    "                    ADT.append(l,m,1)\n",
    "                    \n",
    "    return ADT"
   ]
  },
  {
   "cell_type": "code",
   "execution_count": 3,
   "metadata": {},
   "outputs": [],
   "source": [
    "#to simplify our problem\n",
    "#lets upload a small txt file with selected words of four letters\n",
    "#which can be downloaded in the data subfolder\n",
    "# https://github.com/je-suis-tm/graph-theory/blob/master/data/word%20ladder.txt\n",
    "f=open('word ladder.txt','r') \n",
    "words=[] \n",
    "for i in f.readlines(): \n",
    "    words.append(i.replace('\\n',''))"
   ]
  },
  {
   "cell_type": "code",
   "execution_count": 4,
   "metadata": {},
   "outputs": [],
   "source": [
    "ADT=check_around(words)"
   ]
  },
  {
   "cell_type": "code",
   "execution_count": 5,
   "metadata": {},
   "outputs": [
    {
     "name": "stdout",
     "output_type": "stream",
     "text": [
      "length of the path: 6\n",
      "number of vertices BFS has travelled: 23\n"
     ]
    }
   ],
   "source": [
    "#bfs can find the optimal path easily\n",
    "#details of bfs can be found in the following link\n",
    "# https://github.com/je-suis-tm/graph-theory/blob/master/BFS%20DFS%20on%20DCG.ipynb\n",
    "num_of_words_bfs,path_bfs=graph.bfs_path(ADT,'pale','soul')\n",
    "num_of_v_bfs=len([i for i in ADT.route() if ADT.route()[i]==1])\n",
    "ADT.clear(whole=True)\n",
    "\n",
    "print(f'length of the path:',num_of_words_bfs)\n",
    "print(f'number of vertices BFS has travelled:',num_of_v_bfs)"
   ]
  },
  {
   "cell_type": "code",
   "execution_count": 6,
   "metadata": {},
   "outputs": [
    {
     "name": "stdout",
     "output_type": "stream",
     "text": [
      "length of the path: 7\n",
      "number of vertices DFS has travelled: 9\n"
     ]
    }
   ],
   "source": [
    "#dfs can find the path, but may not be the optimal\n",
    "#details of dfs can be found in the following link\n",
    "# https://github.com/je-suis-tm/graph-theory/blob/master/dfs%20DFS%20on%20DCG.ipynb\n",
    "num_of_words_dfs,path_dfs=graph.dfs_path(ADT,'pale','soul')\n",
    "num_of_v_dfs=len([i for i in ADT.route() if ADT.route()[i]==1])\n",
    "ADT.clear(whole=True)\n",
    "\n",
    "print(f'length of the path:',num_of_words_dfs)\n",
    "print(f'number of vertices DFS has travelled:',num_of_v_dfs)"
   ]
  },
  {
   "cell_type": "code",
   "execution_count": 7,
   "metadata": {},
   "outputs": [
    {
     "name": "stdout",
     "output_type": "stream",
     "text": [
      "length of the path: 6\n",
      "number of vertices Dijkstra has travelled: 23\n"
     ]
    }
   ],
   "source": [
    "#like any other problem in this repository\n",
    "#dijkstra is guaranteed to find the optimal\n",
    "num_of_words_dijkstra,path_dijkstra=graph.dijkstra(ADT,'pale','soul')\n",
    "num_of_v_dijkstra=len([i for i in ADT.route() if ADT.route()[i]==1])\n",
    "ADT.clear(whole=True)\n",
    "\n",
    "print(f'length of the path:',num_of_words_dijkstra)\n",
    "print(f'number of vertices Dijkstra has travelled:',num_of_v_dijkstra)"
   ]
  },
  {
   "cell_type": "code",
   "execution_count": 8,
   "metadata": {},
   "outputs": [
    {
     "data": {
      "text/plain": [
       "['pale', 'pole', 'poll', 'pool', 'fool', 'foul', 'soul']"
      ]
     },
     "execution_count": 8,
     "metadata": {},
     "output_type": "execute_result"
    }
   ],
   "source": [
    "#ta-da\n",
    "#our solution is here\n",
    "#it takes six steps from pale to soul\n",
    "#if we have a complete oxford dictionary\n",
    "#i bet we can do it in 4\n",
    "path_bfs"
   ]
  },
  {
   "cell_type": "markdown",
   "metadata": {},
   "source": [
    "![alt text](./preview/word ladder.png)"
   ]
  },
  {
   "cell_type": "code",
   "execution_count": null,
   "metadata": {},
   "outputs": [],
   "source": []
  }
 ],
 "metadata": {
  "kernelspec": {
   "display_name": "Python 3",
   "language": "python",
   "name": "python3"
  },
  "language_info": {
   "codemirror_mode": {
    "name": "ipython",
    "version": 3
   },
   "file_extension": ".py",
   "mimetype": "text/x-python",
   "name": "python",
   "nbconvert_exporter": "python",
   "pygments_lexer": "ipython3",
   "version": "3.6.5"
  }
 },
 "nbformat": 4,
 "nbformat_minor": 2
}
