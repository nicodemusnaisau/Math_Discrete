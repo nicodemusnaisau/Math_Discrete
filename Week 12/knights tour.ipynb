{
 "cells": [
  {
   "cell_type": "markdown",
   "metadata": {},
   "source": [
    "## Week_12_Knights_tour"
   ]
  },
  {
   "cell_type": "markdown",
   "metadata": {
    "collapsed": true
   },
   "source": [
    "### Knight's Tour\n",
    "\n",
    "&nbsp;\n",
    "\n",
    "Knight's tour is about a knight who tries to travel through all vertices on the chessboard and each vertex is visited only once. Rules of knight's tour can be found in the following link\n",
    "\n",
    "https://en.wikipedia.org/wiki/Knight%27s_tour\n",
    "\n",
    "&nbsp;"
   ]
  },
  {
   "cell_type": "code",
   "execution_count": 2,
   "metadata": {},
   "outputs": [],
   "source": [
    "import matplotlib.pyplot as plt\n",
    "import matplotlib.animation as pltani\n",
    "import os\n",
    "os.chdir('C:\\Dev\\Jupyter Notebook\\Math_Discrete\\Week 12')\n",
    "\n",
    "#graph adt\n",
    "#check the below link for more details\n",
    "# https://github.com/je-suis-tm/graph-theory/blob/master/graph.py\n",
    "import graph"
   ]
  },
  {
   "cell_type": "code",
   "execution_count": 3,
   "metadata": {},
   "outputs": [],
   "source": [
    "#dfs here is slightly different from other dfs\n",
    "#an organic dfs goes very deep until we cannot find any unvisited children vertices\n",
    "#in that case we move up to the parent vertex to find unvisited sibling vertices\n",
    "#this action violates the rule of travel-once\n",
    "#hence we use a few more lines to adjust the algorithm\n",
    "#when we havent finished visiting all the vertices\n",
    "#any backtracking leads to cancellation of the visited status of the current vertex\n",
    "#becuz this is not the solution we want\n",
    "#we cant visit one vertex twice\n",
    "#we keep doing cancellation\n",
    "#until we find a path that dives very deep and never comes back\n",
    "#in the end, this path would ve visited all the vertices only once\n",
    "#it would be the answer we are looking for\n",
    "#details of organic dfs can be found in the following link\n",
    "# https://github.com/je-suis-tm/graph-theory/blob/master/BFS%20dfs%20on%20DCG.ipynb\n",
    "def dfs(ADT,start,path):\n",
    "\n",
    "    ADT.visit(start)\n",
    "\n",
    "    path.append(start)\n",
    "\n",
    "    for newpos in ADT.edge(start):\n",
    "\n",
    "        if ADT.go(newpos)==0:\n",
    "\n",
    "            dfs(ADT,newpos,path)\n",
    "\n",
    "    if len(path)<ADT.order():\n",
    "\n",
    "        ADT.clear(start)\n",
    "\n",
    "        path.pop()"
   ]
  },
  {
   "cell_type": "code",
   "execution_count": 4,
   "metadata": {},
   "outputs": [],
   "source": [
    "#create graph adt\n",
    "#the movement of knight is very special\n",
    "#for each vertex, there are eight possible next moves at maximum\n",
    "#we also need a semi definite constraint to make sure knight doesnt travel outta chessboard\n",
    "def check_around(ADT,i,j,size):\n",
    "\n",
    "    for x,y in [(i-2,j+1),(i-2,j-1),(i-1,j-2),\n",
    "                (i-1,j+2),(i+1,j-2),(i+1,j+2),\n",
    "                (i+2,j-1),(i+2,j+1)]:\n",
    "\n",
    "        if x<size and x>=0 and y<size and y>=0:\n",
    "\n",
    "            ADT.append((i,j),(x,y),1)\n",
    "            \n",
    "    return ADT"
   ]
  },
  {
   "cell_type": "code",
   "execution_count": 5,
   "metadata": {},
   "outputs": [],
   "source": [
    "#viz knight s tour\n",
    "def draw_chessboard(ind,*args):\n",
    "    \n",
    "    ax,path,knight=args\n",
    "    \n",
    "    #vertices the knight travelled\n",
    "    for i in range(ind):\n",
    "        ax.scatter(path[i][0]+0.5,path[i][1]+0.5,\n",
    "                    color='red',marker='x',s=200)\n",
    "    \n",
    "    #knight s current position\n",
    "    knight.set_offsets((path[ind][0]+0.5,path[ind][1]+0.5))   "
   ]
  },
  {
   "cell_type": "code",
   "execution_count": 6,
   "metadata": {},
   "outputs": [],
   "source": [
    "#assume this is an 8 by 8 chessboard\n",
    "size=8\n",
    "\n",
    "#generate graph adt\n",
    "chessboard=graph.graph()\n",
    "for i in range(size):\n",
    "    for j in range(size):\n",
    "        chessboard=check_around(chessboard,i,j,size)"
   ]
  },
  {
   "cell_type": "code",
   "execution_count": 7,
   "metadata": {},
   "outputs": [],
   "source": [
    "#dfs\n",
    "#plz note that there are many possible solutions\n",
    "#this is not the only answer\n",
    "path=[]\n",
    "dfs(chessboard,(0,0),path)"
   ]
  },
  {
   "cell_type": "code",
   "execution_count": 8,
   "metadata": {
    "scrolled": false
   },
   "outputs": [
    {
     "name": "stderr",
     "output_type": "stream",
     "text": [
      "MovieWriter ffmpeg unavailable; using Pillow instead.\n"
     ]
    },
    {
     "data": {
      "image/png": "[encoded data removed]",
      "text/plain": [
       "<Figure size 360x360 with 1 Axes>"
      ]
     },
     "metadata": {},
     "output_type": "display_data"
    }
   ],
   "source": [
    "fig,ax=plt.subplots(figsize=(5,5))\n",
    "\n",
    "#create black and white chessboard\n",
    "for i in range(size):\n",
    "    for j in range(size):\n",
    "        if (i%2==0 and j%2==0) or (i%2!=0 and j%2!=0):\n",
    "            ax.fill_between([i,i+1],j,j+1,color='black')\n",
    "\n",
    "#knight s trajectory\n",
    "knight=ax.scatter(path[0][0]+0.5,path[0][1]+0.5,\n",
    "                    color='gold',marker='*',s=250)\n",
    "    \n",
    "#chic design\n",
    "ax.set_xlim(0,size)\n",
    "ax.set_ylim(0,size)\n",
    "ax.set_xticks([])\n",
    "ax.set_yticks([])\n",
    "\n",
    "#create animations\n",
    "anim=pltani.FuncAnimation(fig,draw_chessboard,\n",
    "                          frames=size*size,\n",
    "                          interval=700,\n",
    "                          fargs=(ax,path,knight))\n",
    "anim.save('knights tour.gif')"
   ]
  },
  {
   "cell_type": "markdown",
   "metadata": {},
   "source": [
    "![alt text](./preview/knights tour.gif)"
   ]
  }
 ],
 "metadata": {
  "kernelspec": {
   "display_name": "Python 3",
   "language": "python",
   "name": "python3"
  },
  "language_info": {
   "codemirror_mode": {
    "name": "ipython",
    "version": 3
   },
   "file_extension": ".py",
   "mimetype": "text/x-python",
   "name": "python",
   "nbconvert_exporter": "python",
   "pygments_lexer": "ipython3",
   "version": "3.8.5"
  }
 },
 "nbformat": 4,
 "nbformat_minor": 2
}
